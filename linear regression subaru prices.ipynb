{
 "cells": [
  {
   "cell_type": "code",
   "execution_count": 1,
   "id": "d9101a5e",
   "metadata": {},
   "outputs": [],
   "source": [
    "import numpy as np\n",
    "import pandas as pd\n",
    "import os\n",
    "from datetime import datetime"
   ]
  },
  {
   "cell_type": "code",
   "execution_count": 2,
   "id": "53c12ba6",
   "metadata": {},
   "outputs": [
    {
     "data": {
      "text/plain": [
       "['.ipynb_checkpoints',\n",
       " 'linear regression subaru prices.ipynb',\n",
       " 'subaru_auto.csv',\n",
       " 'subaru_ji.csv']"
      ]
     },
     "execution_count": 2,
     "metadata": {},
     "output_type": "execute_result"
    }
   ],
   "source": [
    "os.listdir()"
   ]
  },
  {
   "cell_type": "code",
   "execution_count": 3,
   "id": "6afd0231",
   "metadata": {},
   "outputs": [],
   "source": [
    "df1 = pd.read_csv('subaru_ji.csv')\n",
    "df2 = pd.read_csv('subaru_auto.csv')"
   ]
  },
  {
   "cell_type": "code",
   "execution_count": 4,
   "id": "941bf2eb",
   "metadata": {},
   "outputs": [
    {
     "data": {
      "text/plain": [
       "(276, 6)"
      ]
     },
     "execution_count": 4,
     "metadata": {},
     "output_type": "execute_result"
    }
   ],
   "source": [
    "df1.shape"
   ]
  },
  {
   "cell_type": "code",
   "execution_count": 5,
   "id": "d293829d",
   "metadata": {},
   "outputs": [
    {
     "data": {
      "text/plain": [
       "(196, 5)"
      ]
     },
     "execution_count": 5,
     "metadata": {},
     "output_type": "execute_result"
    }
   ],
   "source": [
    "df2.shape"
   ]
  },
  {
   "cell_type": "code",
   "execution_count": 6,
   "id": "434a17ef",
   "metadata": {},
   "outputs": [
    {
     "data": {
      "text/html": [
       "<div>\n",
       "<style scoped>\n",
       "    .dataframe tbody tr th:only-of-type {\n",
       "        vertical-align: middle;\n",
       "    }\n",
       "\n",
       "    .dataframe tbody tr th {\n",
       "        vertical-align: top;\n",
       "    }\n",
       "\n",
       "    .dataframe thead th {\n",
       "        text-align: right;\n",
       "    }\n",
       "</style>\n",
       "<table border=\"1\" class=\"dataframe\">\n",
       "  <thead>\n",
       "    <tr style=\"text-align: right;\">\n",
       "      <th></th>\n",
       "      <th>title</th>\n",
       "      <th>model</th>\n",
       "      <th>condition</th>\n",
       "      <th>yom</th>\n",
       "      <th>mileage</th>\n",
       "      <th>price</th>\n",
       "    </tr>\n",
       "  </thead>\n",
       "  <tbody>\n",
       "    <tr>\n",
       "      <th>0</th>\n",
       "      <td>Subaru Forester 2014 Gray</td>\n",
       "      <td>Forester</td>\n",
       "      <td>Foreign Used</td>\n",
       "      <td>2014.0</td>\n",
       "      <td>NaN</td>\n",
       "      <td>2890000</td>\n",
       "    </tr>\n",
       "    <tr>\n",
       "      <th>1</th>\n",
       "      <td>Subaru Forester 2014 Blue</td>\n",
       "      <td>Forester</td>\n",
       "      <td>Foreign Used</td>\n",
       "      <td>2014.0</td>\n",
       "      <td>100862.0</td>\n",
       "      <td>2400000</td>\n",
       "    </tr>\n",
       "    <tr>\n",
       "      <th>2</th>\n",
       "      <td>Subaru XV 2014 Sport Package Blue</td>\n",
       "      <td>XV</td>\n",
       "      <td>Foreign Used</td>\n",
       "      <td>2014.0</td>\n",
       "      <td>115000.0</td>\n",
       "      <td>1850000</td>\n",
       "    </tr>\n",
       "    <tr>\n",
       "      <th>3</th>\n",
       "      <td>Subaru Forester 2014 Black</td>\n",
       "      <td>Forester</td>\n",
       "      <td>Foreign Used</td>\n",
       "      <td>2014.0</td>\n",
       "      <td>38000.0</td>\n",
       "      <td>2400000</td>\n",
       "    </tr>\n",
       "    <tr>\n",
       "      <th>4</th>\n",
       "      <td>New Subaru Impreza 2012 WRX Hatchback STI Limi...</td>\n",
       "      <td>Impreza</td>\n",
       "      <td>Brand New</td>\n",
       "      <td>2012.0</td>\n",
       "      <td>6683.0</td>\n",
       "      <td>1950000</td>\n",
       "    </tr>\n",
       "  </tbody>\n",
       "</table>\n",
       "</div>"
      ],
      "text/plain": [
       "                                               title     model     condition  \\\n",
       "0                          Subaru Forester 2014 Gray  Forester  Foreign Used   \n",
       "1                          Subaru Forester 2014 Blue  Forester  Foreign Used   \n",
       "2                  Subaru XV 2014 Sport Package Blue        XV  Foreign Used   \n",
       "3                         Subaru Forester 2014 Black  Forester  Foreign Used   \n",
       "4  New Subaru Impreza 2012 WRX Hatchback STI Limi...   Impreza     Brand New   \n",
       "\n",
       "      yom   mileage    price  \n",
       "0  2014.0       NaN  2890000  \n",
       "1  2014.0  100862.0  2400000  \n",
       "2  2014.0  115000.0  1850000  \n",
       "3  2014.0   38000.0  2400000  \n",
       "4  2012.0    6683.0  1950000  "
      ]
     },
     "execution_count": 6,
     "metadata": {},
     "output_type": "execute_result"
    }
   ],
   "source": [
    "df1.head()"
   ]
  },
  {
   "cell_type": "code",
   "execution_count": 8,
   "id": "30665309",
   "metadata": {},
   "outputs": [
    {
     "data": {
      "text/html": [
       "<div>\n",
       "<style scoped>\n",
       "    .dataframe tbody tr th:only-of-type {\n",
       "        vertical-align: middle;\n",
       "    }\n",
       "\n",
       "    .dataframe tbody tr th {\n",
       "        vertical-align: top;\n",
       "    }\n",
       "\n",
       "    .dataframe thead th {\n",
       "        text-align: right;\n",
       "    }\n",
       "</style>\n",
       "<table border=\"1\" class=\"dataframe\">\n",
       "  <thead>\n",
       "    <tr style=\"text-align: right;\">\n",
       "      <th></th>\n",
       "      <th>title</th>\n",
       "      <th>year</th>\n",
       "      <th>condition</th>\n",
       "      <th>mileage</th>\n",
       "      <th>price</th>\n",
       "    </tr>\n",
       "  </thead>\n",
       "  <tbody>\n",
       "    <tr>\n",
       "      <th>0</th>\n",
       "      <td>Subaru XT</td>\n",
       "      <td>2016</td>\n",
       "      <td>foreign</td>\n",
       "      <td>36565</td>\n",
       "      <td>4315000</td>\n",
       "    </tr>\n",
       "    <tr>\n",
       "      <th>1</th>\n",
       "      <td>Subaru Forester</td>\n",
       "      <td>2016</td>\n",
       "      <td>foreign</td>\n",
       "      <td>64006</td>\n",
       "      <td>4315000</td>\n",
       "    </tr>\n",
       "    <tr>\n",
       "      <th>2</th>\n",
       "      <td>Subaru Forester</td>\n",
       "      <td>2015</td>\n",
       "      <td>foreign</td>\n",
       "      <td>60521</td>\n",
       "      <td>3415000</td>\n",
       "    </tr>\n",
       "    <tr>\n",
       "      <th>3</th>\n",
       "      <td>Subaru Impreza</td>\n",
       "      <td>2015</td>\n",
       "      <td>foreign</td>\n",
       "      <td>83705</td>\n",
       "      <td>2015000</td>\n",
       "    </tr>\n",
       "    <tr>\n",
       "      <th>4</th>\n",
       "      <td>Subaru XT</td>\n",
       "      <td>2015</td>\n",
       "      <td>foreign</td>\n",
       "      <td>62144</td>\n",
       "      <td>4015000</td>\n",
       "    </tr>\n",
       "    <tr>\n",
       "      <th>5</th>\n",
       "      <td>Subaru Legacy</td>\n",
       "      <td>2011</td>\n",
       "      <td>local</td>\n",
       "      <td>132815</td>\n",
       "      <td>1415000</td>\n",
       "    </tr>\n",
       "    <tr>\n",
       "      <th>6</th>\n",
       "      <td>Subaru Forester</td>\n",
       "      <td>2015</td>\n",
       "      <td>foreign</td>\n",
       "      <td>77087</td>\n",
       "      <td>3015000</td>\n",
       "    </tr>\n",
       "    <tr>\n",
       "      <th>7</th>\n",
       "      <td>Subaru XV</td>\n",
       "      <td>2015</td>\n",
       "      <td>foreign</td>\n",
       "      <td>116582</td>\n",
       "      <td>2315000</td>\n",
       "    </tr>\n",
       "    <tr>\n",
       "      <th>8</th>\n",
       "      <td>Subaru Forester</td>\n",
       "      <td>2015</td>\n",
       "      <td>foreign</td>\n",
       "      <td>100104</td>\n",
       "      <td>2830000</td>\n",
       "    </tr>\n",
       "    <tr>\n",
       "      <th>9</th>\n",
       "      <td>Subaru Levorg</td>\n",
       "      <td>2015</td>\n",
       "      <td>foreign</td>\n",
       "      <td>111191</td>\n",
       "      <td>2015000</td>\n",
       "    </tr>\n",
       "  </tbody>\n",
       "</table>\n",
       "</div>"
      ],
      "text/plain": [
       "             title  year condition  mileage    price\n",
       "0        Subaru XT  2016   foreign    36565  4315000\n",
       "1  Subaru Forester  2016   foreign    64006  4315000\n",
       "2  Subaru Forester  2015   foreign    60521  3415000\n",
       "3   Subaru Impreza  2015   foreign    83705  2015000\n",
       "4        Subaru XT  2015   foreign    62144  4015000\n",
       "5    Subaru Legacy  2011     local   132815  1415000\n",
       "6  Subaru Forester  2015   foreign    77087  3015000\n",
       "7        Subaru XV  2015   foreign   116582  2315000\n",
       "8  Subaru Forester  2015   foreign   100104  2830000\n",
       "9    Subaru Levorg  2015   foreign   111191  2015000"
      ]
     },
     "execution_count": 8,
     "metadata": {},
     "output_type": "execute_result"
    }
   ],
   "source": [
    "df2.head(10)"
   ]
  },
  {
   "cell_type": "code",
   "execution_count": 10,
   "id": "b48d388e",
   "metadata": {},
   "outputs": [
    {
     "data": {
      "text/plain": [
       "0            XT\n",
       "1      Forester\n",
       "2      Forester\n",
       "3       Impreza\n",
       "4            XT\n",
       "         ...   \n",
       "191     Impreza\n",
       "192    Forester\n",
       "193       Exiga\n",
       "194     Outback\n",
       "195     Impreza\n",
       "Name: title, Length: 196, dtype: object"
      ]
     },
     "execution_count": 10,
     "metadata": {},
     "output_type": "execute_result"
    }
   ],
   "source": [
    "df2['title'].str.split().apply(lambda x: x[1])"
   ]
  },
  {
   "cell_type": "code",
   "execution_count": 11,
   "id": "6291fe29",
   "metadata": {},
   "outputs": [
    {
     "data": {
      "text/html": [
       "<div>\n",
       "<style scoped>\n",
       "    .dataframe tbody tr th:only-of-type {\n",
       "        vertical-align: middle;\n",
       "    }\n",
       "\n",
       "    .dataframe tbody tr th {\n",
       "        vertical-align: top;\n",
       "    }\n",
       "\n",
       "    .dataframe thead th {\n",
       "        text-align: right;\n",
       "    }\n",
       "</style>\n",
       "<table border=\"1\" class=\"dataframe\">\n",
       "  <thead>\n",
       "    <tr style=\"text-align: right;\">\n",
       "      <th></th>\n",
       "      <th>title</th>\n",
       "      <th>year</th>\n",
       "      <th>condition</th>\n",
       "      <th>mileage</th>\n",
       "      <th>price</th>\n",
       "      <th>model</th>\n",
       "    </tr>\n",
       "  </thead>\n",
       "  <tbody>\n",
       "    <tr>\n",
       "      <th>0</th>\n",
       "      <td>Subaru XT</td>\n",
       "      <td>2016</td>\n",
       "      <td>foreign</td>\n",
       "      <td>36565</td>\n",
       "      <td>4315000</td>\n",
       "      <td>XT</td>\n",
       "    </tr>\n",
       "    <tr>\n",
       "      <th>1</th>\n",
       "      <td>Subaru Forester</td>\n",
       "      <td>2016</td>\n",
       "      <td>foreign</td>\n",
       "      <td>64006</td>\n",
       "      <td>4315000</td>\n",
       "      <td>Forester</td>\n",
       "    </tr>\n",
       "    <tr>\n",
       "      <th>2</th>\n",
       "      <td>Subaru Forester</td>\n",
       "      <td>2015</td>\n",
       "      <td>foreign</td>\n",
       "      <td>60521</td>\n",
       "      <td>3415000</td>\n",
       "      <td>Forester</td>\n",
       "    </tr>\n",
       "    <tr>\n",
       "      <th>3</th>\n",
       "      <td>Subaru Impreza</td>\n",
       "      <td>2015</td>\n",
       "      <td>foreign</td>\n",
       "      <td>83705</td>\n",
       "      <td>2015000</td>\n",
       "      <td>Impreza</td>\n",
       "    </tr>\n",
       "    <tr>\n",
       "      <th>4</th>\n",
       "      <td>Subaru XT</td>\n",
       "      <td>2015</td>\n",
       "      <td>foreign</td>\n",
       "      <td>62144</td>\n",
       "      <td>4015000</td>\n",
       "      <td>XT</td>\n",
       "    </tr>\n",
       "  </tbody>\n",
       "</table>\n",
       "</div>"
      ],
      "text/plain": [
       "             title  year condition  mileage    price     model\n",
       "0        Subaru XT  2016   foreign    36565  4315000        XT\n",
       "1  Subaru Forester  2016   foreign    64006  4315000  Forester\n",
       "2  Subaru Forester  2015   foreign    60521  3415000  Forester\n",
       "3   Subaru Impreza  2015   foreign    83705  2015000   Impreza\n",
       "4        Subaru XT  2015   foreign    62144  4015000        XT"
      ]
     },
     "execution_count": 11,
     "metadata": {},
     "output_type": "execute_result"
    }
   ],
   "source": [
    "df2['model'] = df2['title'].str.split().apply(lambda x: x[1])\n",
    "df2.head()"
   ]
  },
  {
   "cell_type": "code",
   "execution_count": 12,
   "id": "92654739",
   "metadata": {},
   "outputs": [
    {
     "data": {
      "text/html": [
       "<div>\n",
       "<style scoped>\n",
       "    .dataframe tbody tr th:only-of-type {\n",
       "        vertical-align: middle;\n",
       "    }\n",
       "\n",
       "    .dataframe tbody tr th {\n",
       "        vertical-align: top;\n",
       "    }\n",
       "\n",
       "    .dataframe thead th {\n",
       "        text-align: right;\n",
       "    }\n",
       "</style>\n",
       "<table border=\"1\" class=\"dataframe\">\n",
       "  <thead>\n",
       "    <tr style=\"text-align: right;\">\n",
       "      <th></th>\n",
       "      <th>title</th>\n",
       "      <th>model</th>\n",
       "      <th>condition</th>\n",
       "      <th>yom</th>\n",
       "      <th>mileage</th>\n",
       "      <th>price</th>\n",
       "    </tr>\n",
       "  </thead>\n",
       "  <tbody>\n",
       "    <tr>\n",
       "      <th>0</th>\n",
       "      <td>Subaru Forester 2014 Gray</td>\n",
       "      <td>Forester</td>\n",
       "      <td>Foreign Used</td>\n",
       "      <td>2014.0</td>\n",
       "      <td>NaN</td>\n",
       "      <td>2890000</td>\n",
       "    </tr>\n",
       "    <tr>\n",
       "      <th>1</th>\n",
       "      <td>Subaru Forester 2014 Blue</td>\n",
       "      <td>Forester</td>\n",
       "      <td>Foreign Used</td>\n",
       "      <td>2014.0</td>\n",
       "      <td>100862.0</td>\n",
       "      <td>2400000</td>\n",
       "    </tr>\n",
       "    <tr>\n",
       "      <th>2</th>\n",
       "      <td>Subaru XV 2014 Sport Package Blue</td>\n",
       "      <td>XV</td>\n",
       "      <td>Foreign Used</td>\n",
       "      <td>2014.0</td>\n",
       "      <td>115000.0</td>\n",
       "      <td>1850000</td>\n",
       "    </tr>\n",
       "    <tr>\n",
       "      <th>3</th>\n",
       "      <td>Subaru Forester 2014 Black</td>\n",
       "      <td>Forester</td>\n",
       "      <td>Foreign Used</td>\n",
       "      <td>2014.0</td>\n",
       "      <td>38000.0</td>\n",
       "      <td>2400000</td>\n",
       "    </tr>\n",
       "    <tr>\n",
       "      <th>4</th>\n",
       "      <td>New Subaru Impreza 2012 WRX Hatchback STI Limi...</td>\n",
       "      <td>Impreza</td>\n",
       "      <td>Brand New</td>\n",
       "      <td>2012.0</td>\n",
       "      <td>6683.0</td>\n",
       "      <td>1950000</td>\n",
       "    </tr>\n",
       "  </tbody>\n",
       "</table>\n",
       "</div>"
      ],
      "text/plain": [
       "                                               title     model     condition  \\\n",
       "0                          Subaru Forester 2014 Gray  Forester  Foreign Used   \n",
       "1                          Subaru Forester 2014 Blue  Forester  Foreign Used   \n",
       "2                  Subaru XV 2014 Sport Package Blue        XV  Foreign Used   \n",
       "3                         Subaru Forester 2014 Black  Forester  Foreign Used   \n",
       "4  New Subaru Impreza 2012 WRX Hatchback STI Limi...   Impreza     Brand New   \n",
       "\n",
       "      yom   mileage    price  \n",
       "0  2014.0       NaN  2890000  \n",
       "1  2014.0  100862.0  2400000  \n",
       "2  2014.0  115000.0  1850000  \n",
       "3  2014.0   38000.0  2400000  \n",
       "4  2012.0    6683.0  1950000  "
      ]
     },
     "execution_count": 12,
     "metadata": {},
     "output_type": "execute_result"
    }
   ],
   "source": [
    "df1.head()"
   ]
  },
  {
   "cell_type": "code",
   "execution_count": 13,
   "id": "735871ed",
   "metadata": {},
   "outputs": [],
   "source": [
    "df2.columns.values[1] = 'yom'"
   ]
  },
  {
   "cell_type": "code",
   "execution_count": 14,
   "id": "b4251c98",
   "metadata": {},
   "outputs": [
    {
     "data": {
      "text/html": [
       "<div>\n",
       "<style scoped>\n",
       "    .dataframe tbody tr th:only-of-type {\n",
       "        vertical-align: middle;\n",
       "    }\n",
       "\n",
       "    .dataframe tbody tr th {\n",
       "        vertical-align: top;\n",
       "    }\n",
       "\n",
       "    .dataframe thead th {\n",
       "        text-align: right;\n",
       "    }\n",
       "</style>\n",
       "<table border=\"1\" class=\"dataframe\">\n",
       "  <thead>\n",
       "    <tr style=\"text-align: right;\">\n",
       "      <th></th>\n",
       "      <th>title</th>\n",
       "      <th>yom</th>\n",
       "      <th>condition</th>\n",
       "      <th>mileage</th>\n",
       "      <th>price</th>\n",
       "      <th>model</th>\n",
       "    </tr>\n",
       "  </thead>\n",
       "  <tbody>\n",
       "    <tr>\n",
       "      <th>0</th>\n",
       "      <td>Subaru XT</td>\n",
       "      <td>2016</td>\n",
       "      <td>foreign</td>\n",
       "      <td>36565</td>\n",
       "      <td>4315000</td>\n",
       "      <td>XT</td>\n",
       "    </tr>\n",
       "    <tr>\n",
       "      <th>1</th>\n",
       "      <td>Subaru Forester</td>\n",
       "      <td>2016</td>\n",
       "      <td>foreign</td>\n",
       "      <td>64006</td>\n",
       "      <td>4315000</td>\n",
       "      <td>Forester</td>\n",
       "    </tr>\n",
       "    <tr>\n",
       "      <th>2</th>\n",
       "      <td>Subaru Forester</td>\n",
       "      <td>2015</td>\n",
       "      <td>foreign</td>\n",
       "      <td>60521</td>\n",
       "      <td>3415000</td>\n",
       "      <td>Forester</td>\n",
       "    </tr>\n",
       "    <tr>\n",
       "      <th>3</th>\n",
       "      <td>Subaru Impreza</td>\n",
       "      <td>2015</td>\n",
       "      <td>foreign</td>\n",
       "      <td>83705</td>\n",
       "      <td>2015000</td>\n",
       "      <td>Impreza</td>\n",
       "    </tr>\n",
       "    <tr>\n",
       "      <th>4</th>\n",
       "      <td>Subaru XT</td>\n",
       "      <td>2015</td>\n",
       "      <td>foreign</td>\n",
       "      <td>62144</td>\n",
       "      <td>4015000</td>\n",
       "      <td>XT</td>\n",
       "    </tr>\n",
       "  </tbody>\n",
       "</table>\n",
       "</div>"
      ],
      "text/plain": [
       "             title   yom condition  mileage    price     model\n",
       "0        Subaru XT  2016   foreign    36565  4315000        XT\n",
       "1  Subaru Forester  2016   foreign    64006  4315000  Forester\n",
       "2  Subaru Forester  2015   foreign    60521  3415000  Forester\n",
       "3   Subaru Impreza  2015   foreign    83705  2015000   Impreza\n",
       "4        Subaru XT  2015   foreign    62144  4015000        XT"
      ]
     },
     "execution_count": 14,
     "metadata": {},
     "output_type": "execute_result"
    }
   ],
   "source": [
    "df2.head()"
   ]
  },
  {
   "cell_type": "code",
   "execution_count": 15,
   "id": "6c5a1b2e",
   "metadata": {},
   "outputs": [],
   "source": [
    "df1['source'] = 'seller 1'\n",
    "df2['source'] = 'seller 2'"
   ]
  },
  {
   "cell_type": "code",
   "execution_count": 16,
   "id": "7d5b602e",
   "metadata": {},
   "outputs": [
    {
     "data": {
      "text/html": [
       "<div>\n",
       "<style scoped>\n",
       "    .dataframe tbody tr th:only-of-type {\n",
       "        vertical-align: middle;\n",
       "    }\n",
       "\n",
       "    .dataframe tbody tr th {\n",
       "        vertical-align: top;\n",
       "    }\n",
       "\n",
       "    .dataframe thead th {\n",
       "        text-align: right;\n",
       "    }\n",
       "</style>\n",
       "<table border=\"1\" class=\"dataframe\">\n",
       "  <thead>\n",
       "    <tr style=\"text-align: right;\">\n",
       "      <th></th>\n",
       "      <th>title</th>\n",
       "      <th>model</th>\n",
       "      <th>condition</th>\n",
       "      <th>yom</th>\n",
       "      <th>mileage</th>\n",
       "      <th>price</th>\n",
       "      <th>source</th>\n",
       "    </tr>\n",
       "  </thead>\n",
       "  <tbody>\n",
       "    <tr>\n",
       "      <th>0</th>\n",
       "      <td>Subaru Forester 2014 Gray</td>\n",
       "      <td>Forester</td>\n",
       "      <td>Foreign Used</td>\n",
       "      <td>2014.0</td>\n",
       "      <td>NaN</td>\n",
       "      <td>2890000</td>\n",
       "      <td>seller 1</td>\n",
       "    </tr>\n",
       "    <tr>\n",
       "      <th>1</th>\n",
       "      <td>Subaru Forester 2014 Blue</td>\n",
       "      <td>Forester</td>\n",
       "      <td>Foreign Used</td>\n",
       "      <td>2014.0</td>\n",
       "      <td>100862.0</td>\n",
       "      <td>2400000</td>\n",
       "      <td>seller 1</td>\n",
       "    </tr>\n",
       "    <tr>\n",
       "      <th>2</th>\n",
       "      <td>Subaru XV 2014 Sport Package Blue</td>\n",
       "      <td>XV</td>\n",
       "      <td>Foreign Used</td>\n",
       "      <td>2014.0</td>\n",
       "      <td>115000.0</td>\n",
       "      <td>1850000</td>\n",
       "      <td>seller 1</td>\n",
       "    </tr>\n",
       "    <tr>\n",
       "      <th>3</th>\n",
       "      <td>Subaru Forester 2014 Black</td>\n",
       "      <td>Forester</td>\n",
       "      <td>Foreign Used</td>\n",
       "      <td>2014.0</td>\n",
       "      <td>38000.0</td>\n",
       "      <td>2400000</td>\n",
       "      <td>seller 1</td>\n",
       "    </tr>\n",
       "    <tr>\n",
       "      <th>4</th>\n",
       "      <td>New Subaru Impreza 2012 WRX Hatchback STI Limi...</td>\n",
       "      <td>Impreza</td>\n",
       "      <td>Brand New</td>\n",
       "      <td>2012.0</td>\n",
       "      <td>6683.0</td>\n",
       "      <td>1950000</td>\n",
       "      <td>seller 1</td>\n",
       "    </tr>\n",
       "  </tbody>\n",
       "</table>\n",
       "</div>"
      ],
      "text/plain": [
       "                                               title     model     condition  \\\n",
       "0                          Subaru Forester 2014 Gray  Forester  Foreign Used   \n",
       "1                          Subaru Forester 2014 Blue  Forester  Foreign Used   \n",
       "2                  Subaru XV 2014 Sport Package Blue        XV  Foreign Used   \n",
       "3                         Subaru Forester 2014 Black  Forester  Foreign Used   \n",
       "4  New Subaru Impreza 2012 WRX Hatchback STI Limi...   Impreza     Brand New   \n",
       "\n",
       "      yom   mileage    price    source  \n",
       "0  2014.0       NaN  2890000  seller 1  \n",
       "1  2014.0  100862.0  2400000  seller 1  \n",
       "2  2014.0  115000.0  1850000  seller 1  \n",
       "3  2014.0   38000.0  2400000  seller 1  \n",
       "4  2012.0    6683.0  1950000  seller 1  "
      ]
     },
     "execution_count": 16,
     "metadata": {},
     "output_type": "execute_result"
    }
   ],
   "source": [
    "df1.head()"
   ]
  },
  {
   "cell_type": "code",
   "execution_count": 17,
   "id": "1a2fd667",
   "metadata": {},
   "outputs": [
    {
     "data": {
      "text/plain": [
       "array(['Foreign Used', 'Brand New', 'Kenyan Used', nan], dtype=object)"
      ]
     },
     "execution_count": 17,
     "metadata": {},
     "output_type": "execute_result"
    }
   ],
   "source": [
    "df1['condition'].unique()"
   ]
  },
  {
   "cell_type": "code",
   "execution_count": 19,
   "id": "ca6d1f07",
   "metadata": {},
   "outputs": [
    {
     "data": {
      "text/plain": [
       "array(['foreign', 'local'], dtype=object)"
      ]
     },
     "execution_count": 19,
     "metadata": {},
     "output_type": "execute_result"
    }
   ],
   "source": [
    "df2['condition'].unique()"
   ]
  },
  {
   "cell_type": "code",
   "execution_count": 20,
   "id": "0c2219d5",
   "metadata": {},
   "outputs": [
    {
     "data": {
      "text/plain": [
       "array(['Forester', 'XV', 'Impreza', 'Legacy', 'Levorg', 'Outback',\n",
       "       'Exiga', 'SVX', 'Trezia', 'Tribeca'], dtype=object)"
      ]
     },
     "execution_count": 20,
     "metadata": {},
     "output_type": "execute_result"
    }
   ],
   "source": [
    "df1['model'].unique()"
   ]
  },
  {
   "cell_type": "code",
   "execution_count": 21,
   "id": "efe211a1",
   "metadata": {},
   "outputs": [
    {
     "data": {
      "text/plain": [
       "array(['XT', 'Forester', 'Impreza', 'Legacy', 'XV', 'Levorg', 'Outback',\n",
       "       'WRX', 'Tribeca', 'G4', 'Trezia', 'CROSSOVER', 'Sambar', 'Exiga'],\n",
       "      dtype=object)"
      ]
     },
     "execution_count": 21,
     "metadata": {},
     "output_type": "execute_result"
    }
   ],
   "source": [
    "df2['model'].unique()"
   ]
  },
  {
   "cell_type": "code",
   "execution_count": 22,
   "id": "f0fffb24",
   "metadata": {},
   "outputs": [],
   "source": [
    "df2['condition'] = df2['condition'].str.replace('foreign','Foreign Used')\n",
    "df2['condition'] = df2['condition'].str.replace('local','Kenyan Used')"
   ]
  },
  {
   "cell_type": "code",
   "execution_count": 23,
   "id": "7889938b",
   "metadata": {},
   "outputs": [],
   "source": [
    "?pd.concat"
   ]
  },
  {
   "cell_type": "code",
   "execution_count": 27,
   "id": "c41008cc",
   "metadata": {},
   "outputs": [
    {
     "data": {
      "text/plain": [
       "(472, 7)"
      ]
     },
     "execution_count": 27,
     "metadata": {},
     "output_type": "execute_result"
    }
   ],
   "source": [
    "# combine the two datasets/dataframes\n",
    "df_combo = pd.concat([df1,df2],ignore_index=True)\n",
    "df_combo.shape"
   ]
  },
  {
   "cell_type": "code",
   "execution_count": 28,
   "id": "03d6b4e2",
   "metadata": {},
   "outputs": [
    {
     "data": {
      "text/html": [
       "<div>\n",
       "<style scoped>\n",
       "    .dataframe tbody tr th:only-of-type {\n",
       "        vertical-align: middle;\n",
       "    }\n",
       "\n",
       "    .dataframe tbody tr th {\n",
       "        vertical-align: top;\n",
       "    }\n",
       "\n",
       "    .dataframe thead th {\n",
       "        text-align: right;\n",
       "    }\n",
       "</style>\n",
       "<table border=\"1\" class=\"dataframe\">\n",
       "  <thead>\n",
       "    <tr style=\"text-align: right;\">\n",
       "      <th></th>\n",
       "      <th>title</th>\n",
       "      <th>model</th>\n",
       "      <th>condition</th>\n",
       "      <th>yom</th>\n",
       "      <th>mileage</th>\n",
       "      <th>price</th>\n",
       "      <th>source</th>\n",
       "    </tr>\n",
       "  </thead>\n",
       "  <tbody>\n",
       "    <tr>\n",
       "      <th>0</th>\n",
       "      <td>Subaru Forester 2014 Gray</td>\n",
       "      <td>Forester</td>\n",
       "      <td>Foreign Used</td>\n",
       "      <td>2014.0</td>\n",
       "      <td>NaN</td>\n",
       "      <td>2890000</td>\n",
       "      <td>seller 1</td>\n",
       "    </tr>\n",
       "    <tr>\n",
       "      <th>1</th>\n",
       "      <td>Subaru Forester 2014 Blue</td>\n",
       "      <td>Forester</td>\n",
       "      <td>Foreign Used</td>\n",
       "      <td>2014.0</td>\n",
       "      <td>100862.0</td>\n",
       "      <td>2400000</td>\n",
       "      <td>seller 1</td>\n",
       "    </tr>\n",
       "    <tr>\n",
       "      <th>2</th>\n",
       "      <td>Subaru XV 2014 Sport Package Blue</td>\n",
       "      <td>XV</td>\n",
       "      <td>Foreign Used</td>\n",
       "      <td>2014.0</td>\n",
       "      <td>115000.0</td>\n",
       "      <td>1850000</td>\n",
       "      <td>seller 1</td>\n",
       "    </tr>\n",
       "    <tr>\n",
       "      <th>3</th>\n",
       "      <td>Subaru Forester 2014 Black</td>\n",
       "      <td>Forester</td>\n",
       "      <td>Foreign Used</td>\n",
       "      <td>2014.0</td>\n",
       "      <td>38000.0</td>\n",
       "      <td>2400000</td>\n",
       "      <td>seller 1</td>\n",
       "    </tr>\n",
       "    <tr>\n",
       "      <th>4</th>\n",
       "      <td>New Subaru Impreza 2012 WRX Hatchback STI Limi...</td>\n",
       "      <td>Impreza</td>\n",
       "      <td>Brand New</td>\n",
       "      <td>2012.0</td>\n",
       "      <td>6683.0</td>\n",
       "      <td>1950000</td>\n",
       "      <td>seller 1</td>\n",
       "    </tr>\n",
       "  </tbody>\n",
       "</table>\n",
       "</div>"
      ],
      "text/plain": [
       "                                               title     model     condition  \\\n",
       "0                          Subaru Forester 2014 Gray  Forester  Foreign Used   \n",
       "1                          Subaru Forester 2014 Blue  Forester  Foreign Used   \n",
       "2                  Subaru XV 2014 Sport Package Blue        XV  Foreign Used   \n",
       "3                         Subaru Forester 2014 Black  Forester  Foreign Used   \n",
       "4  New Subaru Impreza 2012 WRX Hatchback STI Limi...   Impreza     Brand New   \n",
       "\n",
       "      yom   mileage    price    source  \n",
       "0  2014.0       NaN  2890000  seller 1  \n",
       "1  2014.0  100862.0  2400000  seller 1  \n",
       "2  2014.0  115000.0  1850000  seller 1  \n",
       "3  2014.0   38000.0  2400000  seller 1  \n",
       "4  2012.0    6683.0  1950000  seller 1  "
      ]
     },
     "execution_count": 28,
     "metadata": {},
     "output_type": "execute_result"
    }
   ],
   "source": [
    "df_combo.head()"
   ]
  },
  {
   "cell_type": "code",
   "execution_count": 29,
   "id": "0f875593",
   "metadata": {},
   "outputs": [
    {
     "data": {
      "text/html": [
       "<div>\n",
       "<style scoped>\n",
       "    .dataframe tbody tr th:only-of-type {\n",
       "        vertical-align: middle;\n",
       "    }\n",
       "\n",
       "    .dataframe tbody tr th {\n",
       "        vertical-align: top;\n",
       "    }\n",
       "\n",
       "    .dataframe thead th {\n",
       "        text-align: right;\n",
       "    }\n",
       "</style>\n",
       "<table border=\"1\" class=\"dataframe\">\n",
       "  <thead>\n",
       "    <tr style=\"text-align: right;\">\n",
       "      <th></th>\n",
       "      <th>title</th>\n",
       "      <th>model</th>\n",
       "      <th>condition</th>\n",
       "      <th>yom</th>\n",
       "      <th>mileage</th>\n",
       "      <th>price</th>\n",
       "      <th>source</th>\n",
       "    </tr>\n",
       "  </thead>\n",
       "  <tbody>\n",
       "    <tr>\n",
       "      <th>467</th>\n",
       "      <td>Subaru Impreza</td>\n",
       "      <td>Impreza</td>\n",
       "      <td>Foreign Used</td>\n",
       "      <td>2015.0</td>\n",
       "      <td>199459.0</td>\n",
       "      <td>1515000</td>\n",
       "      <td>seller 2</td>\n",
       "    </tr>\n",
       "    <tr>\n",
       "      <th>468</th>\n",
       "      <td>Subaru Forester</td>\n",
       "      <td>Forester</td>\n",
       "      <td>Foreign Used</td>\n",
       "      <td>2015.0</td>\n",
       "      <td>102625.0</td>\n",
       "      <td>2915000</td>\n",
       "      <td>seller 2</td>\n",
       "    </tr>\n",
       "    <tr>\n",
       "      <th>469</th>\n",
       "      <td>Subaru Exiga</td>\n",
       "      <td>Exiga</td>\n",
       "      <td>Foreign Used</td>\n",
       "      <td>2014.0</td>\n",
       "      <td>141790.0</td>\n",
       "      <td>1865000</td>\n",
       "      <td>seller 2</td>\n",
       "    </tr>\n",
       "    <tr>\n",
       "      <th>470</th>\n",
       "      <td>Subaru Outback</td>\n",
       "      <td>Outback</td>\n",
       "      <td>Kenyan Used</td>\n",
       "      <td>2015.0</td>\n",
       "      <td>79633.0</td>\n",
       "      <td>3530000</td>\n",
       "      <td>seller 2</td>\n",
       "    </tr>\n",
       "    <tr>\n",
       "      <th>471</th>\n",
       "      <td>Subaru Impreza</td>\n",
       "      <td>Impreza</td>\n",
       "      <td>Foreign Used</td>\n",
       "      <td>2014.0</td>\n",
       "      <td>74346.0</td>\n",
       "      <td>1465000</td>\n",
       "      <td>seller 2</td>\n",
       "    </tr>\n",
       "  </tbody>\n",
       "</table>\n",
       "</div>"
      ],
      "text/plain": [
       "               title     model     condition     yom   mileage    price  \\\n",
       "467   Subaru Impreza   Impreza  Foreign Used  2015.0  199459.0  1515000   \n",
       "468  Subaru Forester  Forester  Foreign Used  2015.0  102625.0  2915000   \n",
       "469    Subaru Exiga      Exiga  Foreign Used  2014.0  141790.0  1865000   \n",
       "470   Subaru Outback   Outback   Kenyan Used  2015.0   79633.0  3530000   \n",
       "471   Subaru Impreza   Impreza  Foreign Used  2014.0   74346.0  1465000   \n",
       "\n",
       "       source  \n",
       "467  seller 2  \n",
       "468  seller 2  \n",
       "469  seller 2  \n",
       "470  seller 2  \n",
       "471  seller 2  "
      ]
     },
     "execution_count": 29,
     "metadata": {},
     "output_type": "execute_result"
    }
   ],
   "source": [
    "df_combo.tail()"
   ]
  },
  {
   "cell_type": "code",
   "execution_count": 30,
   "id": "8b352195",
   "metadata": {},
   "outputs": [
    {
     "data": {
      "text/plain": [
       "array(['Foreign Used', 'Brand New', 'Kenyan Used', nan], dtype=object)"
      ]
     },
     "execution_count": 30,
     "metadata": {},
     "output_type": "execute_result"
    }
   ],
   "source": [
    "df_combo['condition'].unique()"
   ]
  },
  {
   "cell_type": "code",
   "execution_count": 31,
   "id": "569ca2dd",
   "metadata": {},
   "outputs": [
    {
     "data": {
      "text/plain": [
       "array(['Forester', 'XV', 'Impreza', 'Legacy', 'Levorg', 'Outback',\n",
       "       'Exiga', 'SVX', 'Trezia', 'Tribeca', 'XT', 'WRX', 'G4',\n",
       "       'CROSSOVER', 'Sambar'], dtype=object)"
      ]
     },
     "execution_count": 31,
     "metadata": {},
     "output_type": "execute_result"
    }
   ],
   "source": [
    "df_combo['model'].unique()"
   ]
  },
  {
   "cell_type": "code",
   "execution_count": 35,
   "id": "058704a3",
   "metadata": {},
   "outputs": [
    {
     "data": {
      "text/plain": [
       "title         0\n",
       "model         0\n",
       "condition     1\n",
       "yom           1\n",
       "mileage      41\n",
       "price         0\n",
       "source        0\n",
       "dtype: int64"
      ]
     },
     "execution_count": 35,
     "metadata": {},
     "output_type": "execute_result"
    }
   ],
   "source": [
    "df_combo.isnull().sum()"
   ]
  },
  {
   "cell_type": "code",
   "execution_count": 36,
   "id": "6c6ba97f",
   "metadata": {},
   "outputs": [
    {
     "data": {
      "text/html": [
       "<div>\n",
       "<style scoped>\n",
       "    .dataframe tbody tr th:only-of-type {\n",
       "        vertical-align: middle;\n",
       "    }\n",
       "\n",
       "    .dataframe tbody tr th {\n",
       "        vertical-align: top;\n",
       "    }\n",
       "\n",
       "    .dataframe thead th {\n",
       "        text-align: right;\n",
       "    }\n",
       "</style>\n",
       "<table border=\"1\" class=\"dataframe\">\n",
       "  <thead>\n",
       "    <tr style=\"text-align: right;\">\n",
       "      <th></th>\n",
       "      <th>title</th>\n",
       "      <th>model</th>\n",
       "      <th>condition</th>\n",
       "      <th>yom</th>\n",
       "      <th>mileage</th>\n",
       "      <th>price</th>\n",
       "      <th>source</th>\n",
       "    </tr>\n",
       "  </thead>\n",
       "  <tbody>\n",
       "    <tr>\n",
       "      <th>270</th>\n",
       "      <td>Subaru Outback 2014 black</td>\n",
       "      <td>Outback</td>\n",
       "      <td>NaN</td>\n",
       "      <td>NaN</td>\n",
       "      <td>180097.0</td>\n",
       "      <td>1649999</td>\n",
       "      <td>seller 1</td>\n",
       "    </tr>\n",
       "  </tbody>\n",
       "</table>\n",
       "</div>"
      ],
      "text/plain": [
       "                         title    model condition  yom   mileage    price  \\\n",
       "270  Subaru Outback 2014 black  Outback       NaN  NaN  180097.0  1649999   \n",
       "\n",
       "       source  \n",
       "270  seller 1  "
      ]
     },
     "execution_count": 36,
     "metadata": {},
     "output_type": "execute_result"
    }
   ],
   "source": [
    "df_combo[df_combo['yom'].isnull()]"
   ]
  },
  {
   "cell_type": "code",
   "execution_count": 37,
   "id": "12907199",
   "metadata": {},
   "outputs": [],
   "source": [
    "df_combo.at[270,'yom'] = 2014"
   ]
  },
  {
   "cell_type": "code",
   "execution_count": 38,
   "id": "a33b02d0",
   "metadata": {},
   "outputs": [
    {
     "data": {
      "text/html": [
       "<div>\n",
       "<style scoped>\n",
       "    .dataframe tbody tr th:only-of-type {\n",
       "        vertical-align: middle;\n",
       "    }\n",
       "\n",
       "    .dataframe tbody tr th {\n",
       "        vertical-align: top;\n",
       "    }\n",
       "\n",
       "    .dataframe thead th {\n",
       "        text-align: right;\n",
       "    }\n",
       "</style>\n",
       "<table border=\"1\" class=\"dataframe\">\n",
       "  <thead>\n",
       "    <tr style=\"text-align: right;\">\n",
       "      <th></th>\n",
       "      <th>title</th>\n",
       "      <th>model</th>\n",
       "      <th>condition</th>\n",
       "      <th>yom</th>\n",
       "      <th>mileage</th>\n",
       "      <th>price</th>\n",
       "      <th>source</th>\n",
       "    </tr>\n",
       "  </thead>\n",
       "  <tbody>\n",
       "  </tbody>\n",
       "</table>\n",
       "</div>"
      ],
      "text/plain": [
       "Empty DataFrame\n",
       "Columns: [title, model, condition, yom, mileage, price, source]\n",
       "Index: []"
      ]
     },
     "execution_count": 38,
     "metadata": {},
     "output_type": "execute_result"
    }
   ],
   "source": [
    "df_combo[df_combo['yom'].isnull()]"
   ]
  },
  {
   "cell_type": "code",
   "execution_count": 39,
   "id": "860c7b88",
   "metadata": {},
   "outputs": [],
   "source": [
    "df_combo['yom'] = df_combo['yom'].apply(lambda x: int(x))"
   ]
  },
  {
   "cell_type": "code",
   "execution_count": 43,
   "id": "04f82b54",
   "metadata": {},
   "outputs": [
    {
     "data": {
      "text/plain": [
       "2022"
      ]
     },
     "execution_count": 43,
     "metadata": {},
     "output_type": "execute_result"
    }
   ],
   "source": [
    "datetime.now().year"
   ]
  },
  {
   "cell_type": "code",
   "execution_count": 44,
   "id": "69a2cf6a",
   "metadata": {},
   "outputs": [],
   "source": [
    "df_combo['age_years'] = datetime.now().year - df_combo['yom']"
   ]
  },
  {
   "cell_type": "code",
   "execution_count": 45,
   "id": "0972f0fa",
   "metadata": {},
   "outputs": [
    {
     "data": {
      "text/html": [
       "<div>\n",
       "<style scoped>\n",
       "    .dataframe tbody tr th:only-of-type {\n",
       "        vertical-align: middle;\n",
       "    }\n",
       "\n",
       "    .dataframe tbody tr th {\n",
       "        vertical-align: top;\n",
       "    }\n",
       "\n",
       "    .dataframe thead th {\n",
       "        text-align: right;\n",
       "    }\n",
       "</style>\n",
       "<table border=\"1\" class=\"dataframe\">\n",
       "  <thead>\n",
       "    <tr style=\"text-align: right;\">\n",
       "      <th></th>\n",
       "      <th>title</th>\n",
       "      <th>model</th>\n",
       "      <th>condition</th>\n",
       "      <th>yom</th>\n",
       "      <th>mileage</th>\n",
       "      <th>price</th>\n",
       "      <th>source</th>\n",
       "      <th>age_years</th>\n",
       "    </tr>\n",
       "  </thead>\n",
       "  <tbody>\n",
       "    <tr>\n",
       "      <th>0</th>\n",
       "      <td>Subaru Forester 2014 Gray</td>\n",
       "      <td>Forester</td>\n",
       "      <td>Foreign Used</td>\n",
       "      <td>2014</td>\n",
       "      <td>NaN</td>\n",
       "      <td>2890000</td>\n",
       "      <td>seller 1</td>\n",
       "      <td>8</td>\n",
       "    </tr>\n",
       "    <tr>\n",
       "      <th>1</th>\n",
       "      <td>Subaru Forester 2014 Blue</td>\n",
       "      <td>Forester</td>\n",
       "      <td>Foreign Used</td>\n",
       "      <td>2014</td>\n",
       "      <td>100862.0</td>\n",
       "      <td>2400000</td>\n",
       "      <td>seller 1</td>\n",
       "      <td>8</td>\n",
       "    </tr>\n",
       "    <tr>\n",
       "      <th>2</th>\n",
       "      <td>Subaru XV 2014 Sport Package Blue</td>\n",
       "      <td>XV</td>\n",
       "      <td>Foreign Used</td>\n",
       "      <td>2014</td>\n",
       "      <td>115000.0</td>\n",
       "      <td>1850000</td>\n",
       "      <td>seller 1</td>\n",
       "      <td>8</td>\n",
       "    </tr>\n",
       "    <tr>\n",
       "      <th>3</th>\n",
       "      <td>Subaru Forester 2014 Black</td>\n",
       "      <td>Forester</td>\n",
       "      <td>Foreign Used</td>\n",
       "      <td>2014</td>\n",
       "      <td>38000.0</td>\n",
       "      <td>2400000</td>\n",
       "      <td>seller 1</td>\n",
       "      <td>8</td>\n",
       "    </tr>\n",
       "    <tr>\n",
       "      <th>4</th>\n",
       "      <td>New Subaru Impreza 2012 WRX Hatchback STI Limi...</td>\n",
       "      <td>Impreza</td>\n",
       "      <td>Brand New</td>\n",
       "      <td>2012</td>\n",
       "      <td>6683.0</td>\n",
       "      <td>1950000</td>\n",
       "      <td>seller 1</td>\n",
       "      <td>10</td>\n",
       "    </tr>\n",
       "  </tbody>\n",
       "</table>\n",
       "</div>"
      ],
      "text/plain": [
       "                                               title     model     condition  \\\n",
       "0                          Subaru Forester 2014 Gray  Forester  Foreign Used   \n",
       "1                          Subaru Forester 2014 Blue  Forester  Foreign Used   \n",
       "2                  Subaru XV 2014 Sport Package Blue        XV  Foreign Used   \n",
       "3                         Subaru Forester 2014 Black  Forester  Foreign Used   \n",
       "4  New Subaru Impreza 2012 WRX Hatchback STI Limi...   Impreza     Brand New   \n",
       "\n",
       "    yom   mileage    price    source  age_years  \n",
       "0  2014       NaN  2890000  seller 1          8  \n",
       "1  2014  100862.0  2400000  seller 1          8  \n",
       "2  2014  115000.0  1850000  seller 1          8  \n",
       "3  2014   38000.0  2400000  seller 1          8  \n",
       "4  2012    6683.0  1950000  seller 1         10  "
      ]
     },
     "execution_count": 45,
     "metadata": {},
     "output_type": "execute_result"
    }
   ],
   "source": [
    "df_combo.head()"
   ]
  },
  {
   "cell_type": "code",
   "execution_count": 46,
   "id": "b19d415f",
   "metadata": {},
   "outputs": [
    {
     "data": {
      "text/html": [
       "<div>\n",
       "<style scoped>\n",
       "    .dataframe tbody tr th:only-of-type {\n",
       "        vertical-align: middle;\n",
       "    }\n",
       "\n",
       "    .dataframe tbody tr th {\n",
       "        vertical-align: top;\n",
       "    }\n",
       "\n",
       "    .dataframe thead th {\n",
       "        text-align: right;\n",
       "    }\n",
       "</style>\n",
       "<table border=\"1\" class=\"dataframe\">\n",
       "  <thead>\n",
       "    <tr style=\"text-align: right;\">\n",
       "      <th></th>\n",
       "      <th>title</th>\n",
       "      <th>model</th>\n",
       "      <th>condition</th>\n",
       "      <th>mileage</th>\n",
       "      <th>price</th>\n",
       "      <th>source</th>\n",
       "      <th>age_years</th>\n",
       "    </tr>\n",
       "  </thead>\n",
       "  <tbody>\n",
       "    <tr>\n",
       "      <th>0</th>\n",
       "      <td>Subaru Forester 2014 Gray</td>\n",
       "      <td>Forester</td>\n",
       "      <td>Foreign Used</td>\n",
       "      <td>NaN</td>\n",
       "      <td>2890000</td>\n",
       "      <td>seller 1</td>\n",
       "      <td>8</td>\n",
       "    </tr>\n",
       "    <tr>\n",
       "      <th>1</th>\n",
       "      <td>Subaru Forester 2014 Blue</td>\n",
       "      <td>Forester</td>\n",
       "      <td>Foreign Used</td>\n",
       "      <td>100862.0</td>\n",
       "      <td>2400000</td>\n",
       "      <td>seller 1</td>\n",
       "      <td>8</td>\n",
       "    </tr>\n",
       "    <tr>\n",
       "      <th>2</th>\n",
       "      <td>Subaru XV 2014 Sport Package Blue</td>\n",
       "      <td>XV</td>\n",
       "      <td>Foreign Used</td>\n",
       "      <td>115000.0</td>\n",
       "      <td>1850000</td>\n",
       "      <td>seller 1</td>\n",
       "      <td>8</td>\n",
       "    </tr>\n",
       "    <tr>\n",
       "      <th>3</th>\n",
       "      <td>Subaru Forester 2014 Black</td>\n",
       "      <td>Forester</td>\n",
       "      <td>Foreign Used</td>\n",
       "      <td>38000.0</td>\n",
       "      <td>2400000</td>\n",
       "      <td>seller 1</td>\n",
       "      <td>8</td>\n",
       "    </tr>\n",
       "    <tr>\n",
       "      <th>4</th>\n",
       "      <td>New Subaru Impreza 2012 WRX Hatchback STI Limi...</td>\n",
       "      <td>Impreza</td>\n",
       "      <td>Brand New</td>\n",
       "      <td>6683.0</td>\n",
       "      <td>1950000</td>\n",
       "      <td>seller 1</td>\n",
       "      <td>10</td>\n",
       "    </tr>\n",
       "    <tr>\n",
       "      <th>...</th>\n",
       "      <td>...</td>\n",
       "      <td>...</td>\n",
       "      <td>...</td>\n",
       "      <td>...</td>\n",
       "      <td>...</td>\n",
       "      <td>...</td>\n",
       "      <td>...</td>\n",
       "    </tr>\n",
       "    <tr>\n",
       "      <th>467</th>\n",
       "      <td>Subaru Impreza</td>\n",
       "      <td>Impreza</td>\n",
       "      <td>Foreign Used</td>\n",
       "      <td>199459.0</td>\n",
       "      <td>1515000</td>\n",
       "      <td>seller 2</td>\n",
       "      <td>7</td>\n",
       "    </tr>\n",
       "    <tr>\n",
       "      <th>468</th>\n",
       "      <td>Subaru Forester</td>\n",
       "      <td>Forester</td>\n",
       "      <td>Foreign Used</td>\n",
       "      <td>102625.0</td>\n",
       "      <td>2915000</td>\n",
       "      <td>seller 2</td>\n",
       "      <td>7</td>\n",
       "    </tr>\n",
       "    <tr>\n",
       "      <th>469</th>\n",
       "      <td>Subaru Exiga</td>\n",
       "      <td>Exiga</td>\n",
       "      <td>Foreign Used</td>\n",
       "      <td>141790.0</td>\n",
       "      <td>1865000</td>\n",
       "      <td>seller 2</td>\n",
       "      <td>8</td>\n",
       "    </tr>\n",
       "    <tr>\n",
       "      <th>470</th>\n",
       "      <td>Subaru Outback</td>\n",
       "      <td>Outback</td>\n",
       "      <td>Kenyan Used</td>\n",
       "      <td>79633.0</td>\n",
       "      <td>3530000</td>\n",
       "      <td>seller 2</td>\n",
       "      <td>7</td>\n",
       "    </tr>\n",
       "    <tr>\n",
       "      <th>471</th>\n",
       "      <td>Subaru Impreza</td>\n",
       "      <td>Impreza</td>\n",
       "      <td>Foreign Used</td>\n",
       "      <td>74346.0</td>\n",
       "      <td>1465000</td>\n",
       "      <td>seller 2</td>\n",
       "      <td>8</td>\n",
       "    </tr>\n",
       "  </tbody>\n",
       "</table>\n",
       "<p>472 rows × 7 columns</p>\n",
       "</div>"
      ],
      "text/plain": [
       "                                                 title     model  \\\n",
       "0                            Subaru Forester 2014 Gray  Forester   \n",
       "1                            Subaru Forester 2014 Blue  Forester   \n",
       "2                    Subaru XV 2014 Sport Package Blue        XV   \n",
       "3                           Subaru Forester 2014 Black  Forester   \n",
       "4    New Subaru Impreza 2012 WRX Hatchback STI Limi...   Impreza   \n",
       "..                                                 ...       ...   \n",
       "467                                     Subaru Impreza   Impreza   \n",
       "468                                    Subaru Forester  Forester   \n",
       "469                                      Subaru Exiga      Exiga   \n",
       "470                                     Subaru Outback   Outback   \n",
       "471                                     Subaru Impreza   Impreza   \n",
       "\n",
       "        condition   mileage    price    source  age_years  \n",
       "0    Foreign Used       NaN  2890000  seller 1          8  \n",
       "1    Foreign Used  100862.0  2400000  seller 1          8  \n",
       "2    Foreign Used  115000.0  1850000  seller 1          8  \n",
       "3    Foreign Used   38000.0  2400000  seller 1          8  \n",
       "4       Brand New    6683.0  1950000  seller 1         10  \n",
       "..            ...       ...      ...       ...        ...  \n",
       "467  Foreign Used  199459.0  1515000  seller 2          7  \n",
       "468  Foreign Used  102625.0  2915000  seller 2          7  \n",
       "469  Foreign Used  141790.0  1865000  seller 2          8  \n",
       "470   Kenyan Used   79633.0  3530000  seller 2          7  \n",
       "471  Foreign Used   74346.0  1465000  seller 2          8  \n",
       "\n",
       "[472 rows x 7 columns]"
      ]
     },
     "execution_count": 46,
     "metadata": {},
     "output_type": "execute_result"
    }
   ],
   "source": [
    "df_combo.drop('yom',axis='columns')"
   ]
  },
  {
   "cell_type": "code",
   "execution_count": 48,
   "id": "cc76a933",
   "metadata": {},
   "outputs": [
    {
     "data": {
      "text/html": [
       "<div>\n",
       "<style scoped>\n",
       "    .dataframe tbody tr th:only-of-type {\n",
       "        vertical-align: middle;\n",
       "    }\n",
       "\n",
       "    .dataframe tbody tr th {\n",
       "        vertical-align: top;\n",
       "    }\n",
       "\n",
       "    .dataframe thead th {\n",
       "        text-align: right;\n",
       "    }\n",
       "</style>\n",
       "<table border=\"1\" class=\"dataframe\">\n",
       "  <thead>\n",
       "    <tr style=\"text-align: right;\">\n",
       "      <th></th>\n",
       "      <th>title</th>\n",
       "      <th>model</th>\n",
       "      <th>condition</th>\n",
       "      <th>yom</th>\n",
       "      <th>mileage</th>\n",
       "      <th>price</th>\n",
       "      <th>source</th>\n",
       "      <th>age_years</th>\n",
       "    </tr>\n",
       "  </thead>\n",
       "  <tbody>\n",
       "    <tr>\n",
       "      <th>0</th>\n",
       "      <td>Subaru Forester 2014 Gray</td>\n",
       "      <td>Forester</td>\n",
       "      <td>Foreign Used</td>\n",
       "      <td>2014</td>\n",
       "      <td>NaN</td>\n",
       "      <td>2890000</td>\n",
       "      <td>seller 1</td>\n",
       "      <td>8</td>\n",
       "    </tr>\n",
       "    <tr>\n",
       "      <th>1</th>\n",
       "      <td>Subaru Forester 2014 Blue</td>\n",
       "      <td>Forester</td>\n",
       "      <td>Foreign Used</td>\n",
       "      <td>2014</td>\n",
       "      <td>100862.0</td>\n",
       "      <td>2400000</td>\n",
       "      <td>seller 1</td>\n",
       "      <td>8</td>\n",
       "    </tr>\n",
       "    <tr>\n",
       "      <th>2</th>\n",
       "      <td>Subaru XV 2014 Sport Package Blue</td>\n",
       "      <td>XV</td>\n",
       "      <td>Foreign Used</td>\n",
       "      <td>2014</td>\n",
       "      <td>115000.0</td>\n",
       "      <td>1850000</td>\n",
       "      <td>seller 1</td>\n",
       "      <td>8</td>\n",
       "    </tr>\n",
       "    <tr>\n",
       "      <th>3</th>\n",
       "      <td>Subaru Forester 2014 Black</td>\n",
       "      <td>Forester</td>\n",
       "      <td>Foreign Used</td>\n",
       "      <td>2014</td>\n",
       "      <td>38000.0</td>\n",
       "      <td>2400000</td>\n",
       "      <td>seller 1</td>\n",
       "      <td>8</td>\n",
       "    </tr>\n",
       "    <tr>\n",
       "      <th>4</th>\n",
       "      <td>New Subaru Impreza 2012 WRX Hatchback STI Limi...</td>\n",
       "      <td>Impreza</td>\n",
       "      <td>Brand New</td>\n",
       "      <td>2012</td>\n",
       "      <td>6683.0</td>\n",
       "      <td>1950000</td>\n",
       "      <td>seller 1</td>\n",
       "      <td>10</td>\n",
       "    </tr>\n",
       "  </tbody>\n",
       "</table>\n",
       "</div>"
      ],
      "text/plain": [
       "                                               title     model     condition  \\\n",
       "0                          Subaru Forester 2014 Gray  Forester  Foreign Used   \n",
       "1                          Subaru Forester 2014 Blue  Forester  Foreign Used   \n",
       "2                  Subaru XV 2014 Sport Package Blue        XV  Foreign Used   \n",
       "3                         Subaru Forester 2014 Black  Forester  Foreign Used   \n",
       "4  New Subaru Impreza 2012 WRX Hatchback STI Limi...   Impreza     Brand New   \n",
       "\n",
       "    yom   mileage    price    source  age_years  \n",
       "0  2014       NaN  2890000  seller 1          8  \n",
       "1  2014  100862.0  2400000  seller 1          8  \n",
       "2  2014  115000.0  1850000  seller 1          8  \n",
       "3  2014   38000.0  2400000  seller 1          8  \n",
       "4  2012    6683.0  1950000  seller 1         10  "
      ]
     },
     "execution_count": 48,
     "metadata": {},
     "output_type": "execute_result"
    }
   ],
   "source": [
    "df_combo.head()"
   ]
  },
  {
   "cell_type": "code",
   "execution_count": 49,
   "id": "c70b632c",
   "metadata": {},
   "outputs": [],
   "source": [
    "df_combo.drop('yom',axis='columns',inplace=True)"
   ]
  },
  {
   "cell_type": "code",
   "execution_count": 50,
   "id": "9ca7486e",
   "metadata": {},
   "outputs": [
    {
     "data": {
      "text/html": [
       "<div>\n",
       "<style scoped>\n",
       "    .dataframe tbody tr th:only-of-type {\n",
       "        vertical-align: middle;\n",
       "    }\n",
       "\n",
       "    .dataframe tbody tr th {\n",
       "        vertical-align: top;\n",
       "    }\n",
       "\n",
       "    .dataframe thead th {\n",
       "        text-align: right;\n",
       "    }\n",
       "</style>\n",
       "<table border=\"1\" class=\"dataframe\">\n",
       "  <thead>\n",
       "    <tr style=\"text-align: right;\">\n",
       "      <th></th>\n",
       "      <th>title</th>\n",
       "      <th>model</th>\n",
       "      <th>condition</th>\n",
       "      <th>mileage</th>\n",
       "      <th>price</th>\n",
       "      <th>source</th>\n",
       "      <th>age_years</th>\n",
       "    </tr>\n",
       "  </thead>\n",
       "  <tbody>\n",
       "    <tr>\n",
       "      <th>0</th>\n",
       "      <td>Subaru Forester 2014 Gray</td>\n",
       "      <td>Forester</td>\n",
       "      <td>Foreign Used</td>\n",
       "      <td>NaN</td>\n",
       "      <td>2890000</td>\n",
       "      <td>seller 1</td>\n",
       "      <td>8</td>\n",
       "    </tr>\n",
       "    <tr>\n",
       "      <th>1</th>\n",
       "      <td>Subaru Forester 2014 Blue</td>\n",
       "      <td>Forester</td>\n",
       "      <td>Foreign Used</td>\n",
       "      <td>100862.0</td>\n",
       "      <td>2400000</td>\n",
       "      <td>seller 1</td>\n",
       "      <td>8</td>\n",
       "    </tr>\n",
       "    <tr>\n",
       "      <th>2</th>\n",
       "      <td>Subaru XV 2014 Sport Package Blue</td>\n",
       "      <td>XV</td>\n",
       "      <td>Foreign Used</td>\n",
       "      <td>115000.0</td>\n",
       "      <td>1850000</td>\n",
       "      <td>seller 1</td>\n",
       "      <td>8</td>\n",
       "    </tr>\n",
       "    <tr>\n",
       "      <th>3</th>\n",
       "      <td>Subaru Forester 2014 Black</td>\n",
       "      <td>Forester</td>\n",
       "      <td>Foreign Used</td>\n",
       "      <td>38000.0</td>\n",
       "      <td>2400000</td>\n",
       "      <td>seller 1</td>\n",
       "      <td>8</td>\n",
       "    </tr>\n",
       "    <tr>\n",
       "      <th>4</th>\n",
       "      <td>New Subaru Impreza 2012 WRX Hatchback STI Limi...</td>\n",
       "      <td>Impreza</td>\n",
       "      <td>Brand New</td>\n",
       "      <td>6683.0</td>\n",
       "      <td>1950000</td>\n",
       "      <td>seller 1</td>\n",
       "      <td>10</td>\n",
       "    </tr>\n",
       "  </tbody>\n",
       "</table>\n",
       "</div>"
      ],
      "text/plain": [
       "                                               title     model     condition  \\\n",
       "0                          Subaru Forester 2014 Gray  Forester  Foreign Used   \n",
       "1                          Subaru Forester 2014 Blue  Forester  Foreign Used   \n",
       "2                  Subaru XV 2014 Sport Package Blue        XV  Foreign Used   \n",
       "3                         Subaru Forester 2014 Black  Forester  Foreign Used   \n",
       "4  New Subaru Impreza 2012 WRX Hatchback STI Limi...   Impreza     Brand New   \n",
       "\n",
       "    mileage    price    source  age_years  \n",
       "0       NaN  2890000  seller 1          8  \n",
       "1  100862.0  2400000  seller 1          8  \n",
       "2  115000.0  1850000  seller 1          8  \n",
       "3   38000.0  2400000  seller 1          8  \n",
       "4    6683.0  1950000  seller 1         10  "
      ]
     },
     "execution_count": 50,
     "metadata": {},
     "output_type": "execute_result"
    }
   ],
   "source": [
    "df_combo.head()"
   ]
  },
  {
   "cell_type": "code",
   "execution_count": 51,
   "id": "9cedf0ee",
   "metadata": {},
   "outputs": [
    {
     "data": {
      "text/plain": [
       "title         0\n",
       "model         0\n",
       "condition     1\n",
       "mileage      41\n",
       "price         0\n",
       "source        0\n",
       "age_years     0\n",
       "dtype: int64"
      ]
     },
     "execution_count": 51,
     "metadata": {},
     "output_type": "execute_result"
    }
   ],
   "source": [
    "df_combo.isnull().sum()"
   ]
  },
  {
   "cell_type": "code",
   "execution_count": 52,
   "id": "9b9f206c",
   "metadata": {},
   "outputs": [
    {
     "data": {
      "text/html": [
       "<div>\n",
       "<style scoped>\n",
       "    .dataframe tbody tr th:only-of-type {\n",
       "        vertical-align: middle;\n",
       "    }\n",
       "\n",
       "    .dataframe tbody tr th {\n",
       "        vertical-align: top;\n",
       "    }\n",
       "\n",
       "    .dataframe thead th {\n",
       "        text-align: right;\n",
       "    }\n",
       "</style>\n",
       "<table border=\"1\" class=\"dataframe\">\n",
       "  <thead>\n",
       "    <tr style=\"text-align: right;\">\n",
       "      <th></th>\n",
       "      <th>title</th>\n",
       "      <th>model</th>\n",
       "      <th>condition</th>\n",
       "      <th>mileage</th>\n",
       "      <th>price</th>\n",
       "      <th>source</th>\n",
       "      <th>age_years</th>\n",
       "    </tr>\n",
       "  </thead>\n",
       "  <tbody>\n",
       "    <tr>\n",
       "      <th>270</th>\n",
       "      <td>Subaru Outback 2014 black</td>\n",
       "      <td>Outback</td>\n",
       "      <td>NaN</td>\n",
       "      <td>180097.0</td>\n",
       "      <td>1649999</td>\n",
       "      <td>seller 1</td>\n",
       "      <td>8</td>\n",
       "    </tr>\n",
       "  </tbody>\n",
       "</table>\n",
       "</div>"
      ],
      "text/plain": [
       "                         title    model condition   mileage    price  \\\n",
       "270  Subaru Outback 2014 black  Outback       NaN  180097.0  1649999   \n",
       "\n",
       "       source  age_years  \n",
       "270  seller 1          8  "
      ]
     },
     "execution_count": 52,
     "metadata": {},
     "output_type": "execute_result"
    }
   ],
   "source": [
    "df_combo[df_combo['condition'].isnull()]"
   ]
  },
  {
   "cell_type": "code",
   "execution_count": 59,
   "id": "f4d81c66",
   "metadata": {},
   "outputs": [
    {
     "data": {
      "text/plain": [
       "Foreign Used    0.813163\n",
       "Kenyan Used     0.161359\n",
       "Brand New       0.025478\n",
       "Name: condition, dtype: float64"
      ]
     },
     "execution_count": 59,
     "metadata": {},
     "output_type": "execute_result"
    }
   ],
   "source": [
    "df_combo['condition'].value_counts(normalize=True)"
   ]
  },
  {
   "cell_type": "code",
   "execution_count": 60,
   "id": "11af6fb3",
   "metadata": {},
   "outputs": [],
   "source": [
    "df_combo.at[270,'condition'] = 'Foreign Used'"
   ]
  },
  {
   "cell_type": "code",
   "execution_count": 61,
   "id": "e92318e2",
   "metadata": {},
   "outputs": [
    {
     "data": {
      "text/html": [
       "<div>\n",
       "<style scoped>\n",
       "    .dataframe tbody tr th:only-of-type {\n",
       "        vertical-align: middle;\n",
       "    }\n",
       "\n",
       "    .dataframe tbody tr th {\n",
       "        vertical-align: top;\n",
       "    }\n",
       "\n",
       "    .dataframe thead th {\n",
       "        text-align: right;\n",
       "    }\n",
       "</style>\n",
       "<table border=\"1\" class=\"dataframe\">\n",
       "  <thead>\n",
       "    <tr style=\"text-align: right;\">\n",
       "      <th></th>\n",
       "      <th>title</th>\n",
       "      <th>model</th>\n",
       "      <th>condition</th>\n",
       "      <th>mileage</th>\n",
       "      <th>price</th>\n",
       "      <th>source</th>\n",
       "      <th>age_years</th>\n",
       "    </tr>\n",
       "  </thead>\n",
       "  <tbody>\n",
       "    <tr>\n",
       "      <th>0</th>\n",
       "      <td>Subaru Forester 2014 Gray</td>\n",
       "      <td>Forester</td>\n",
       "      <td>Foreign Used</td>\n",
       "      <td>NaN</td>\n",
       "      <td>2890000</td>\n",
       "      <td>seller 1</td>\n",
       "      <td>8</td>\n",
       "    </tr>\n",
       "    <tr>\n",
       "      <th>7</th>\n",
       "      <td>Subaru Impreza 2014 Silver</td>\n",
       "      <td>Impreza</td>\n",
       "      <td>Foreign Used</td>\n",
       "      <td>NaN</td>\n",
       "      <td>1350000</td>\n",
       "      <td>seller 1</td>\n",
       "      <td>8</td>\n",
       "    </tr>\n",
       "    <tr>\n",
       "      <th>9</th>\n",
       "      <td>Subaru Levorg 2014 White</td>\n",
       "      <td>Levorg</td>\n",
       "      <td>Foreign Used</td>\n",
       "      <td>NaN</td>\n",
       "      <td>1950000</td>\n",
       "      <td>seller 1</td>\n",
       "      <td>8</td>\n",
       "    </tr>\n",
       "    <tr>\n",
       "      <th>17</th>\n",
       "      <td>Subaru Legacy 2002 Silver</td>\n",
       "      <td>Legacy</td>\n",
       "      <td>Kenyan Used</td>\n",
       "      <td>NaN</td>\n",
       "      <td>475000</td>\n",
       "      <td>seller 1</td>\n",
       "      <td>20</td>\n",
       "    </tr>\n",
       "    <tr>\n",
       "      <th>19</th>\n",
       "      <td>Subaru Levorg 2014 1.6 GT-S EyeSight Pearl</td>\n",
       "      <td>Levorg</td>\n",
       "      <td>Foreign Used</td>\n",
       "      <td>NaN</td>\n",
       "      <td>1900000</td>\n",
       "      <td>seller 1</td>\n",
       "      <td>8</td>\n",
       "    </tr>\n",
       "  </tbody>\n",
       "</table>\n",
       "</div>"
      ],
      "text/plain": [
       "                                         title     model     condition  \\\n",
       "0                    Subaru Forester 2014 Gray  Forester  Foreign Used   \n",
       "7                   Subaru Impreza 2014 Silver   Impreza  Foreign Used   \n",
       "9                     Subaru Levorg 2014 White    Levorg  Foreign Used   \n",
       "17                   Subaru Legacy 2002 Silver    Legacy   Kenyan Used   \n",
       "19  Subaru Levorg 2014 1.6 GT-S EyeSight Pearl    Levorg  Foreign Used   \n",
       "\n",
       "    mileage    price    source  age_years  \n",
       "0       NaN  2890000  seller 1          8  \n",
       "7       NaN  1350000  seller 1          8  \n",
       "9       NaN  1950000  seller 1          8  \n",
       "17      NaN   475000  seller 1         20  \n",
       "19      NaN  1900000  seller 1          8  "
      ]
     },
     "execution_count": 61,
     "metadata": {},
     "output_type": "execute_result"
    }
   ],
   "source": [
    "df_combo[df_combo['mileage'].isnull()].head()"
   ]
  },
  {
   "cell_type": "code",
   "execution_count": 173,
   "id": "2ca340f7",
   "metadata": {},
   "outputs": [
    {
     "data": {
      "text/plain": [
       "100058.2505800464"
      ]
     },
     "execution_count": 173,
     "metadata": {},
     "output_type": "execute_result"
    }
   ],
   "source": [
    "df_combo['mileage'].mean()"
   ]
  },
  {
   "cell_type": "code",
   "execution_count": 174,
   "id": "78bbacce",
   "metadata": {},
   "outputs": [
    {
     "data": {
      "text/plain": [
       "age_years\n",
       "3      64310.000000\n",
       "6     130836.235294\n",
       "7      84363.923077\n",
       "8      99628.883598\n",
       "9      84118.193548\n",
       "10    111653.000000\n",
       "11    131149.200000\n",
       "12    127995.500000\n",
       "13    147245.000000\n",
       "14    145565.250000\n",
       "15    153140.200000\n",
       "16    163094.000000\n",
       "17    167236.000000\n",
       "18    188000.000000\n",
       "19              NaN\n",
       "20              NaN\n",
       "21    263939.000000\n",
       "22    229225.000000\n",
       "Name: mileage, dtype: float64"
      ]
     },
     "execution_count": 174,
     "metadata": {},
     "output_type": "execute_result"
    }
   ],
   "source": [
    "df_combo.groupby('age_years')['mileage'].mean()"
   ]
  },
  {
   "cell_type": "code",
   "execution_count": 175,
   "id": "2e4d117f",
   "metadata": {},
   "outputs": [
    {
     "name": "stdout",
     "output_type": "stream",
     "text": [
      "<class 'pandas.core.frame.DataFrame'>\n",
      "Int64Index: 472 entries, 0 to 195\n",
      "Data columns (total 7 columns):\n",
      " #   Column     Non-Null Count  Dtype  \n",
      "---  ------     --------------  -----  \n",
      " 0   title      472 non-null    object \n",
      " 1   model      472 non-null    object \n",
      " 2   condition  472 non-null    object \n",
      " 3   mileage    431 non-null    float64\n",
      " 4   price      472 non-null    int64  \n",
      " 5   source     472 non-null    object \n",
      " 6   age_years  472 non-null    int64  \n",
      "dtypes: float64(1), int64(2), object(4)\n",
      "memory usage: 45.7+ KB\n"
     ]
    }
   ],
   "source": [
    "df_combo.info()"
   ]
  },
  {
   "cell_type": "code",
   "execution_count": 62,
   "id": "793a79c0",
   "metadata": {},
   "outputs": [],
   "source": [
    "df_combo.dropna(inplace=True,subset='mileage')"
   ]
  },
  {
   "cell_type": "code",
   "execution_count": 63,
   "id": "b7a47c91",
   "metadata": {},
   "outputs": [
    {
     "data": {
      "text/plain": [
       "(431, 7)"
      ]
     },
     "execution_count": 63,
     "metadata": {},
     "output_type": "execute_result"
    }
   ],
   "source": [
    "df_combo.shape"
   ]
  },
  {
   "cell_type": "code",
   "execution_count": 64,
   "id": "9e62bd4f",
   "metadata": {},
   "outputs": [
    {
     "data": {
      "text/plain": [
       "title        0\n",
       "model        0\n",
       "condition    0\n",
       "mileage      0\n",
       "price        0\n",
       "source       0\n",
       "age_years    0\n",
       "dtype: int64"
      ]
     },
     "execution_count": 64,
     "metadata": {},
     "output_type": "execute_result"
    }
   ],
   "source": [
    "df_combo.isnull().sum()"
   ]
  },
  {
   "cell_type": "code",
   "execution_count": 65,
   "id": "8e4ebc6c",
   "metadata": {},
   "outputs": [
    {
     "data": {
      "text/html": [
       "<div>\n",
       "<style scoped>\n",
       "    .dataframe tbody tr th:only-of-type {\n",
       "        vertical-align: middle;\n",
       "    }\n",
       "\n",
       "    .dataframe tbody tr th {\n",
       "        vertical-align: top;\n",
       "    }\n",
       "\n",
       "    .dataframe thead th {\n",
       "        text-align: right;\n",
       "    }\n",
       "</style>\n",
       "<table border=\"1\" class=\"dataframe\">\n",
       "  <thead>\n",
       "    <tr style=\"text-align: right;\">\n",
       "      <th></th>\n",
       "      <th>mileage</th>\n",
       "      <th>price</th>\n",
       "      <th>age_years</th>\n",
       "    </tr>\n",
       "  </thead>\n",
       "  <tbody>\n",
       "    <tr>\n",
       "      <th>count</th>\n",
       "      <td>431.000000</td>\n",
       "      <td>4.310000e+02</td>\n",
       "      <td>431.000000</td>\n",
       "    </tr>\n",
       "    <tr>\n",
       "      <th>mean</th>\n",
       "      <td>100058.250580</td>\n",
       "      <td>2.307445e+06</td>\n",
       "      <td>8.285383</td>\n",
       "    </tr>\n",
       "    <tr>\n",
       "      <th>std</th>\n",
       "      <td>61987.190526</td>\n",
       "      <td>8.388469e+05</td>\n",
       "      <td>2.334722</td>\n",
       "    </tr>\n",
       "    <tr>\n",
       "      <th>min</th>\n",
       "      <td>6683.000000</td>\n",
       "      <td>4.650000e+05</td>\n",
       "      <td>3.000000</td>\n",
       "    </tr>\n",
       "    <tr>\n",
       "      <th>25%</th>\n",
       "      <td>69460.500000</td>\n",
       "      <td>1.590000e+06</td>\n",
       "      <td>7.000000</td>\n",
       "    </tr>\n",
       "    <tr>\n",
       "      <th>50%</th>\n",
       "      <td>89000.000000</td>\n",
       "      <td>2.400000e+06</td>\n",
       "      <td>8.000000</td>\n",
       "    </tr>\n",
       "    <tr>\n",
       "      <th>75%</th>\n",
       "      <td>112388.500000</td>\n",
       "      <td>2.940000e+06</td>\n",
       "      <td>8.000000</td>\n",
       "    </tr>\n",
       "    <tr>\n",
       "      <th>max</th>\n",
       "      <td>868301.000000</td>\n",
       "      <td>5.515000e+06</td>\n",
       "      <td>22.000000</td>\n",
       "    </tr>\n",
       "  </tbody>\n",
       "</table>\n",
       "</div>"
      ],
      "text/plain": [
       "             mileage         price   age_years\n",
       "count     431.000000  4.310000e+02  431.000000\n",
       "mean   100058.250580  2.307445e+06    8.285383\n",
       "std     61987.190526  8.388469e+05    2.334722\n",
       "min      6683.000000  4.650000e+05    3.000000\n",
       "25%     69460.500000  1.590000e+06    7.000000\n",
       "50%     89000.000000  2.400000e+06    8.000000\n",
       "75%    112388.500000  2.940000e+06    8.000000\n",
       "max    868301.000000  5.515000e+06   22.000000"
      ]
     },
     "execution_count": 65,
     "metadata": {},
     "output_type": "execute_result"
    }
   ],
   "source": [
    "df_combo.describe()"
   ]
  },
  {
   "cell_type": "code",
   "execution_count": 66,
   "id": "d906c3f2",
   "metadata": {},
   "outputs": [
    {
     "data": {
      "text/html": [
       "<div>\n",
       "<style scoped>\n",
       "    .dataframe tbody tr th:only-of-type {\n",
       "        vertical-align: middle;\n",
       "    }\n",
       "\n",
       "    .dataframe tbody tr th {\n",
       "        vertical-align: top;\n",
       "    }\n",
       "\n",
       "    .dataframe thead th {\n",
       "        text-align: right;\n",
       "    }\n",
       "</style>\n",
       "<table border=\"1\" class=\"dataframe\">\n",
       "  <thead>\n",
       "    <tr style=\"text-align: right;\">\n",
       "      <th></th>\n",
       "      <th>title</th>\n",
       "      <th>model</th>\n",
       "      <th>condition</th>\n",
       "      <th>mileage</th>\n",
       "      <th>price</th>\n",
       "      <th>source</th>\n",
       "      <th>age_years</th>\n",
       "    </tr>\n",
       "  </thead>\n",
       "  <tbody>\n",
       "    <tr>\n",
       "      <th>1</th>\n",
       "      <td>Subaru Forester 2014 Blue</td>\n",
       "      <td>Forester</td>\n",
       "      <td>Foreign Used</td>\n",
       "      <td>100862.0</td>\n",
       "      <td>2400000</td>\n",
       "      <td>seller 1</td>\n",
       "      <td>8</td>\n",
       "    </tr>\n",
       "    <tr>\n",
       "      <th>2</th>\n",
       "      <td>Subaru XV 2014 Sport Package Blue</td>\n",
       "      <td>XV</td>\n",
       "      <td>Foreign Used</td>\n",
       "      <td>115000.0</td>\n",
       "      <td>1850000</td>\n",
       "      <td>seller 1</td>\n",
       "      <td>8</td>\n",
       "    </tr>\n",
       "    <tr>\n",
       "      <th>3</th>\n",
       "      <td>Subaru Forester 2014 Black</td>\n",
       "      <td>Forester</td>\n",
       "      <td>Foreign Used</td>\n",
       "      <td>38000.0</td>\n",
       "      <td>2400000</td>\n",
       "      <td>seller 1</td>\n",
       "      <td>8</td>\n",
       "    </tr>\n",
       "    <tr>\n",
       "      <th>4</th>\n",
       "      <td>New Subaru Impreza 2012 WRX Hatchback STI Limi...</td>\n",
       "      <td>Impreza</td>\n",
       "      <td>Brand New</td>\n",
       "      <td>6683.0</td>\n",
       "      <td>1950000</td>\n",
       "      <td>seller 1</td>\n",
       "      <td>10</td>\n",
       "    </tr>\n",
       "    <tr>\n",
       "      <th>5</th>\n",
       "      <td>Subaru Forester 2014 Green</td>\n",
       "      <td>Forester</td>\n",
       "      <td>Foreign Used</td>\n",
       "      <td>89021.0</td>\n",
       "      <td>2700000</td>\n",
       "      <td>seller 1</td>\n",
       "      <td>8</td>\n",
       "    </tr>\n",
       "    <tr>\n",
       "      <th>...</th>\n",
       "      <td>...</td>\n",
       "      <td>...</td>\n",
       "      <td>...</td>\n",
       "      <td>...</td>\n",
       "      <td>...</td>\n",
       "      <td>...</td>\n",
       "      <td>...</td>\n",
       "    </tr>\n",
       "    <tr>\n",
       "      <th>467</th>\n",
       "      <td>Subaru Impreza</td>\n",
       "      <td>Impreza</td>\n",
       "      <td>Foreign Used</td>\n",
       "      <td>199459.0</td>\n",
       "      <td>1515000</td>\n",
       "      <td>seller 2</td>\n",
       "      <td>7</td>\n",
       "    </tr>\n",
       "    <tr>\n",
       "      <th>468</th>\n",
       "      <td>Subaru Forester</td>\n",
       "      <td>Forester</td>\n",
       "      <td>Foreign Used</td>\n",
       "      <td>102625.0</td>\n",
       "      <td>2915000</td>\n",
       "      <td>seller 2</td>\n",
       "      <td>7</td>\n",
       "    </tr>\n",
       "    <tr>\n",
       "      <th>469</th>\n",
       "      <td>Subaru Exiga</td>\n",
       "      <td>Exiga</td>\n",
       "      <td>Foreign Used</td>\n",
       "      <td>141790.0</td>\n",
       "      <td>1865000</td>\n",
       "      <td>seller 2</td>\n",
       "      <td>8</td>\n",
       "    </tr>\n",
       "    <tr>\n",
       "      <th>470</th>\n",
       "      <td>Subaru Outback</td>\n",
       "      <td>Outback</td>\n",
       "      <td>Kenyan Used</td>\n",
       "      <td>79633.0</td>\n",
       "      <td>3530000</td>\n",
       "      <td>seller 2</td>\n",
       "      <td>7</td>\n",
       "    </tr>\n",
       "    <tr>\n",
       "      <th>471</th>\n",
       "      <td>Subaru Impreza</td>\n",
       "      <td>Impreza</td>\n",
       "      <td>Foreign Used</td>\n",
       "      <td>74346.0</td>\n",
       "      <td>1465000</td>\n",
       "      <td>seller 2</td>\n",
       "      <td>8</td>\n",
       "    </tr>\n",
       "  </tbody>\n",
       "</table>\n",
       "<p>425 rows × 7 columns</p>\n",
       "</div>"
      ],
      "text/plain": [
       "                                                 title     model  \\\n",
       "1                            Subaru Forester 2014 Blue  Forester   \n",
       "2                    Subaru XV 2014 Sport Package Blue        XV   \n",
       "3                           Subaru Forester 2014 Black  Forester   \n",
       "4    New Subaru Impreza 2012 WRX Hatchback STI Limi...   Impreza   \n",
       "5                           Subaru Forester 2014 Green  Forester   \n",
       "..                                                 ...       ...   \n",
       "467                                     Subaru Impreza   Impreza   \n",
       "468                                    Subaru Forester  Forester   \n",
       "469                                      Subaru Exiga      Exiga   \n",
       "470                                     Subaru Outback   Outback   \n",
       "471                                     Subaru Impreza   Impreza   \n",
       "\n",
       "        condition   mileage    price    source  age_years  \n",
       "1    Foreign Used  100862.0  2400000  seller 1          8  \n",
       "2    Foreign Used  115000.0  1850000  seller 1          8  \n",
       "3    Foreign Used   38000.0  2400000  seller 1          8  \n",
       "4       Brand New    6683.0  1950000  seller 1         10  \n",
       "5    Foreign Used   89021.0  2700000  seller 1          8  \n",
       "..            ...       ...      ...       ...        ...  \n",
       "467  Foreign Used  199459.0  1515000  seller 2          7  \n",
       "468  Foreign Used  102625.0  2915000  seller 2          7  \n",
       "469  Foreign Used  141790.0  1865000  seller 2          8  \n",
       "470   Kenyan Used   79633.0  3530000  seller 2          7  \n",
       "471  Foreign Used   74346.0  1465000  seller 2          8  \n",
       "\n",
       "[425 rows x 7 columns]"
      ]
     },
     "execution_count": 66,
     "metadata": {},
     "output_type": "execute_result"
    }
   ],
   "source": [
    "df_combo[df_combo['mileage'] < 250000]"
   ]
  },
  {
   "cell_type": "code",
   "execution_count": 67,
   "id": "799b3e3d",
   "metadata": {},
   "outputs": [],
   "source": [
    "df = df_combo[df_combo['mileage'] < 250000].copy()"
   ]
  },
  {
   "cell_type": "code",
   "execution_count": 68,
   "id": "0dcd8297",
   "metadata": {},
   "outputs": [
    {
     "data": {
      "text/plain": [
       "(425, 7)"
      ]
     },
     "execution_count": 68,
     "metadata": {},
     "output_type": "execute_result"
    }
   ],
   "source": [
    "df.shape"
   ]
  },
  {
   "cell_type": "code",
   "execution_count": 69,
   "id": "405772f1",
   "metadata": {},
   "outputs": [
    {
     "data": {
      "text/html": [
       "<div>\n",
       "<style scoped>\n",
       "    .dataframe tbody tr th:only-of-type {\n",
       "        vertical-align: middle;\n",
       "    }\n",
       "\n",
       "    .dataframe tbody tr th {\n",
       "        vertical-align: top;\n",
       "    }\n",
       "\n",
       "    .dataframe thead th {\n",
       "        text-align: right;\n",
       "    }\n",
       "</style>\n",
       "<table border=\"1\" class=\"dataframe\">\n",
       "  <thead>\n",
       "    <tr style=\"text-align: right;\">\n",
       "      <th></th>\n",
       "      <th>mileage</th>\n",
       "      <th>price</th>\n",
       "      <th>age_years</th>\n",
       "    </tr>\n",
       "  </thead>\n",
       "  <tbody>\n",
       "    <tr>\n",
       "      <th>mileage</th>\n",
       "      <td>1.000000</td>\n",
       "      <td>-0.356903</td>\n",
       "      <td>0.473906</td>\n",
       "    </tr>\n",
       "    <tr>\n",
       "      <th>price</th>\n",
       "      <td>-0.356903</td>\n",
       "      <td>1.000000</td>\n",
       "      <td>-0.595366</td>\n",
       "    </tr>\n",
       "    <tr>\n",
       "      <th>age_years</th>\n",
       "      <td>0.473906</td>\n",
       "      <td>-0.595366</td>\n",
       "      <td>1.000000</td>\n",
       "    </tr>\n",
       "  </tbody>\n",
       "</table>\n",
       "</div>"
      ],
      "text/plain": [
       "            mileage     price  age_years\n",
       "mileage    1.000000 -0.356903   0.473906\n",
       "price     -0.356903  1.000000  -0.595366\n",
       "age_years  0.473906 -0.595366   1.000000"
      ]
     },
     "execution_count": 69,
     "metadata": {},
     "output_type": "execute_result"
    }
   ],
   "source": [
    "df.corr()"
   ]
  },
  {
   "cell_type": "code",
   "execution_count": 70,
   "id": "73c0ff4d",
   "metadata": {},
   "outputs": [],
   "source": [
    "from sklearn.linear_model import LinearRegression\n",
    "from sklearn.model_selection import train_test_split\n",
    "from sklearn.metrics import r2_score, mean_squared_error"
   ]
  },
  {
   "cell_type": "code",
   "execution_count": 72,
   "id": "2088bd25",
   "metadata": {},
   "outputs": [],
   "source": [
    "model = LinearRegression()"
   ]
  },
  {
   "cell_type": "code",
   "execution_count": 71,
   "id": "d5e982a5",
   "metadata": {},
   "outputs": [],
   "source": [
    "X = df[['age_years']]\n",
    "Y = df['price']"
   ]
  },
  {
   "cell_type": "code",
   "execution_count": 73,
   "id": "dd775e8e",
   "metadata": {},
   "outputs": [
    {
     "name": "stdout",
     "output_type": "stream",
     "text": [
      "<class 'pandas.core.frame.DataFrame'>\n",
      "<class 'pandas.core.series.Series'>\n"
     ]
    }
   ],
   "source": [
    "print(type(X))\n",
    "print(type(Y))"
   ]
  },
  {
   "cell_type": "code",
   "execution_count": 74,
   "id": "7dab22ec",
   "metadata": {},
   "outputs": [],
   "source": [
    "X_train, X_test, y_train, y_test = train_test_split(X,Y,test_size=0.25,shuffle=True)"
   ]
  },
  {
   "cell_type": "code",
   "execution_count": 75,
   "id": "d17ac200",
   "metadata": {},
   "outputs": [
    {
     "data": {
      "text/plain": [
       "(318, 1)"
      ]
     },
     "execution_count": 75,
     "metadata": {},
     "output_type": "execute_result"
    }
   ],
   "source": [
    "X_train.shape"
   ]
  },
  {
   "cell_type": "code",
   "execution_count": 77,
   "id": "628b3551",
   "metadata": {},
   "outputs": [
    {
     "data": {
      "text/plain": [
       "(107, 1)"
      ]
     },
     "execution_count": 77,
     "metadata": {},
     "output_type": "execute_result"
    }
   ],
   "source": [
    "X_test.shape"
   ]
  },
  {
   "cell_type": "code",
   "execution_count": 78,
   "id": "7efdddd1",
   "metadata": {},
   "outputs": [
    {
     "data": {
      "text/html": [
       "<style>#sk-container-id-1 {color: black;background-color: white;}#sk-container-id-1 pre{padding: 0;}#sk-container-id-1 div.sk-toggleable {background-color: white;}#sk-container-id-1 label.sk-toggleable__label {cursor: pointer;display: block;width: 100%;margin-bottom: 0;padding: 0.3em;box-sizing: border-box;text-align: center;}#sk-container-id-1 label.sk-toggleable__label-arrow:before {content: \"▸\";float: left;margin-right: 0.25em;color: #696969;}#sk-container-id-1 label.sk-toggleable__label-arrow:hover:before {color: black;}#sk-container-id-1 div.sk-estimator:hover label.sk-toggleable__label-arrow:before {color: black;}#sk-container-id-1 div.sk-toggleable__content {max-height: 0;max-width: 0;overflow: hidden;text-align: left;background-color: #f0f8ff;}#sk-container-id-1 div.sk-toggleable__content pre {margin: 0.2em;color: black;border-radius: 0.25em;background-color: #f0f8ff;}#sk-container-id-1 input.sk-toggleable__control:checked~div.sk-toggleable__content {max-height: 200px;max-width: 100%;overflow: auto;}#sk-container-id-1 input.sk-toggleable__control:checked~label.sk-toggleable__label-arrow:before {content: \"▾\";}#sk-container-id-1 div.sk-estimator input.sk-toggleable__control:checked~label.sk-toggleable__label {background-color: #d4ebff;}#sk-container-id-1 div.sk-label input.sk-toggleable__control:checked~label.sk-toggleable__label {background-color: #d4ebff;}#sk-container-id-1 input.sk-hidden--visually {border: 0;clip: rect(1px 1px 1px 1px);clip: rect(1px, 1px, 1px, 1px);height: 1px;margin: -1px;overflow: hidden;padding: 0;position: absolute;width: 1px;}#sk-container-id-1 div.sk-estimator {font-family: monospace;background-color: #f0f8ff;border: 1px dotted black;border-radius: 0.25em;box-sizing: border-box;margin-bottom: 0.5em;}#sk-container-id-1 div.sk-estimator:hover {background-color: #d4ebff;}#sk-container-id-1 div.sk-parallel-item::after {content: \"\";width: 100%;border-bottom: 1px solid gray;flex-grow: 1;}#sk-container-id-1 div.sk-label:hover label.sk-toggleable__label {background-color: #d4ebff;}#sk-container-id-1 div.sk-serial::before {content: \"\";position: absolute;border-left: 1px solid gray;box-sizing: border-box;top: 0;bottom: 0;left: 50%;z-index: 0;}#sk-container-id-1 div.sk-serial {display: flex;flex-direction: column;align-items: center;background-color: white;padding-right: 0.2em;padding-left: 0.2em;position: relative;}#sk-container-id-1 div.sk-item {position: relative;z-index: 1;}#sk-container-id-1 div.sk-parallel {display: flex;align-items: stretch;justify-content: center;background-color: white;position: relative;}#sk-container-id-1 div.sk-item::before, #sk-container-id-1 div.sk-parallel-item::before {content: \"\";position: absolute;border-left: 1px solid gray;box-sizing: border-box;top: 0;bottom: 0;left: 50%;z-index: -1;}#sk-container-id-1 div.sk-parallel-item {display: flex;flex-direction: column;z-index: 1;position: relative;background-color: white;}#sk-container-id-1 div.sk-parallel-item:first-child::after {align-self: flex-end;width: 50%;}#sk-container-id-1 div.sk-parallel-item:last-child::after {align-self: flex-start;width: 50%;}#sk-container-id-1 div.sk-parallel-item:only-child::after {width: 0;}#sk-container-id-1 div.sk-dashed-wrapped {border: 1px dashed gray;margin: 0 0.4em 0.5em 0.4em;box-sizing: border-box;padding-bottom: 0.4em;background-color: white;}#sk-container-id-1 div.sk-label label {font-family: monospace;font-weight: bold;display: inline-block;line-height: 1.2em;}#sk-container-id-1 div.sk-label-container {text-align: center;}#sk-container-id-1 div.sk-container {/* jupyter's `normalize.less` sets `[hidden] { display: none; }` but bootstrap.min.css set `[hidden] { display: none !important; }` so we also need the `!important` here to be able to override the default hidden behavior on the sphinx rendered scikit-learn.org. See: https://github.com/scikit-learn/scikit-learn/issues/21755 */display: inline-block !important;position: relative;}#sk-container-id-1 div.sk-text-repr-fallback {display: none;}</style><div id=\"sk-container-id-1\" class=\"sk-top-container\"><div class=\"sk-text-repr-fallback\"><pre>LinearRegression()</pre><b>In a Jupyter environment, please rerun this cell to show the HTML representation or trust the notebook. <br />On GitHub, the HTML representation is unable to render, please try loading this page with nbviewer.org.</b></div><div class=\"sk-container\" hidden><div class=\"sk-item\"><div class=\"sk-estimator sk-toggleable\"><input class=\"sk-toggleable__control sk-hidden--visually\" id=\"sk-estimator-id-1\" type=\"checkbox\" checked><label for=\"sk-estimator-id-1\" class=\"sk-toggleable__label sk-toggleable__label-arrow\">LinearRegression</label><div class=\"sk-toggleable__content\"><pre>LinearRegression()</pre></div></div></div></div></div>"
      ],
      "text/plain": [
       "LinearRegression()"
      ]
     },
     "execution_count": 78,
     "metadata": {},
     "output_type": "execute_result"
    }
   ],
   "source": [
    "model.fit(X_train,y_train)"
   ]
  },
  {
   "cell_type": "code",
   "execution_count": 79,
   "id": "b7c572e1",
   "metadata": {},
   "outputs": [],
   "source": [
    "preds = model.predict(X_test)"
   ]
  },
  {
   "cell_type": "code",
   "execution_count": 80,
   "id": "aa2e62c2",
   "metadata": {},
   "outputs": [
    {
     "data": {
      "text/plain": [
       "0.3067115846070405"
      ]
     },
     "execution_count": 80,
     "metadata": {},
     "output_type": "execute_result"
    }
   ],
   "source": [
    "r2_score(y_test,preds)"
   ]
  },
  {
   "cell_type": "code",
   "execution_count": 82,
   "id": "eed028fd",
   "metadata": {},
   "outputs": [],
   "source": [
    "mse = mean_squared_error(y_test, preds)\n",
    "rmse = np.sqrt(mse)"
   ]
  },
  {
   "cell_type": "code",
   "execution_count": 83,
   "id": "66f1adf0",
   "metadata": {},
   "outputs": [
    {
     "data": {
      "text/plain": [
       "658685.1882362014"
      ]
     },
     "execution_count": 83,
     "metadata": {},
     "output_type": "execute_result"
    }
   ],
   "source": [
    "rmse"
   ]
  },
  {
   "cell_type": "code",
   "execution_count": 84,
   "id": "d5051ce2",
   "metadata": {},
   "outputs": [],
   "source": [
    "X = df[['mileage','age_years']]"
   ]
  },
  {
   "cell_type": "code",
   "execution_count": 85,
   "id": "3a1fbeba",
   "metadata": {},
   "outputs": [],
   "source": [
    "Y = df['price']"
   ]
  },
  {
   "cell_type": "code",
   "execution_count": 86,
   "id": "6d84bc85",
   "metadata": {},
   "outputs": [],
   "source": [
    "X_train, X_test, y_train, y_test = train_test_split(X,Y,shuffle=True,test_size=0.25)"
   ]
  },
  {
   "cell_type": "code",
   "execution_count": 87,
   "id": "867ac100",
   "metadata": {},
   "outputs": [
    {
     "data": {
      "text/plain": [
       "(318, 2)"
      ]
     },
     "execution_count": 87,
     "metadata": {},
     "output_type": "execute_result"
    }
   ],
   "source": [
    "X_train.shape"
   ]
  },
  {
   "cell_type": "code",
   "execution_count": 88,
   "id": "d36564ae",
   "metadata": {},
   "outputs": [
    {
     "data": {
      "text/plain": [
       "(318,)"
      ]
     },
     "execution_count": 88,
     "metadata": {},
     "output_type": "execute_result"
    }
   ],
   "source": [
    "y_train.shape"
   ]
  },
  {
   "cell_type": "code",
   "execution_count": 89,
   "id": "e11d602c",
   "metadata": {},
   "outputs": [
    {
     "data": {
      "text/html": [
       "<style>#sk-container-id-2 {color: black;background-color: white;}#sk-container-id-2 pre{padding: 0;}#sk-container-id-2 div.sk-toggleable {background-color: white;}#sk-container-id-2 label.sk-toggleable__label {cursor: pointer;display: block;width: 100%;margin-bottom: 0;padding: 0.3em;box-sizing: border-box;text-align: center;}#sk-container-id-2 label.sk-toggleable__label-arrow:before {content: \"▸\";float: left;margin-right: 0.25em;color: #696969;}#sk-container-id-2 label.sk-toggleable__label-arrow:hover:before {color: black;}#sk-container-id-2 div.sk-estimator:hover label.sk-toggleable__label-arrow:before {color: black;}#sk-container-id-2 div.sk-toggleable__content {max-height: 0;max-width: 0;overflow: hidden;text-align: left;background-color: #f0f8ff;}#sk-container-id-2 div.sk-toggleable__content pre {margin: 0.2em;color: black;border-radius: 0.25em;background-color: #f0f8ff;}#sk-container-id-2 input.sk-toggleable__control:checked~div.sk-toggleable__content {max-height: 200px;max-width: 100%;overflow: auto;}#sk-container-id-2 input.sk-toggleable__control:checked~label.sk-toggleable__label-arrow:before {content: \"▾\";}#sk-container-id-2 div.sk-estimator input.sk-toggleable__control:checked~label.sk-toggleable__label {background-color: #d4ebff;}#sk-container-id-2 div.sk-label input.sk-toggleable__control:checked~label.sk-toggleable__label {background-color: #d4ebff;}#sk-container-id-2 input.sk-hidden--visually {border: 0;clip: rect(1px 1px 1px 1px);clip: rect(1px, 1px, 1px, 1px);height: 1px;margin: -1px;overflow: hidden;padding: 0;position: absolute;width: 1px;}#sk-container-id-2 div.sk-estimator {font-family: monospace;background-color: #f0f8ff;border: 1px dotted black;border-radius: 0.25em;box-sizing: border-box;margin-bottom: 0.5em;}#sk-container-id-2 div.sk-estimator:hover {background-color: #d4ebff;}#sk-container-id-2 div.sk-parallel-item::after {content: \"\";width: 100%;border-bottom: 1px solid gray;flex-grow: 1;}#sk-container-id-2 div.sk-label:hover label.sk-toggleable__label {background-color: #d4ebff;}#sk-container-id-2 div.sk-serial::before {content: \"\";position: absolute;border-left: 1px solid gray;box-sizing: border-box;top: 0;bottom: 0;left: 50%;z-index: 0;}#sk-container-id-2 div.sk-serial {display: flex;flex-direction: column;align-items: center;background-color: white;padding-right: 0.2em;padding-left: 0.2em;position: relative;}#sk-container-id-2 div.sk-item {position: relative;z-index: 1;}#sk-container-id-2 div.sk-parallel {display: flex;align-items: stretch;justify-content: center;background-color: white;position: relative;}#sk-container-id-2 div.sk-item::before, #sk-container-id-2 div.sk-parallel-item::before {content: \"\";position: absolute;border-left: 1px solid gray;box-sizing: border-box;top: 0;bottom: 0;left: 50%;z-index: -1;}#sk-container-id-2 div.sk-parallel-item {display: flex;flex-direction: column;z-index: 1;position: relative;background-color: white;}#sk-container-id-2 div.sk-parallel-item:first-child::after {align-self: flex-end;width: 50%;}#sk-container-id-2 div.sk-parallel-item:last-child::after {align-self: flex-start;width: 50%;}#sk-container-id-2 div.sk-parallel-item:only-child::after {width: 0;}#sk-container-id-2 div.sk-dashed-wrapped {border: 1px dashed gray;margin: 0 0.4em 0.5em 0.4em;box-sizing: border-box;padding-bottom: 0.4em;background-color: white;}#sk-container-id-2 div.sk-label label {font-family: monospace;font-weight: bold;display: inline-block;line-height: 1.2em;}#sk-container-id-2 div.sk-label-container {text-align: center;}#sk-container-id-2 div.sk-container {/* jupyter's `normalize.less` sets `[hidden] { display: none; }` but bootstrap.min.css set `[hidden] { display: none !important; }` so we also need the `!important` here to be able to override the default hidden behavior on the sphinx rendered scikit-learn.org. See: https://github.com/scikit-learn/scikit-learn/issues/21755 */display: inline-block !important;position: relative;}#sk-container-id-2 div.sk-text-repr-fallback {display: none;}</style><div id=\"sk-container-id-2\" class=\"sk-top-container\"><div class=\"sk-text-repr-fallback\"><pre>LinearRegression()</pre><b>In a Jupyter environment, please rerun this cell to show the HTML representation or trust the notebook. <br />On GitHub, the HTML representation is unable to render, please try loading this page with nbviewer.org.</b></div><div class=\"sk-container\" hidden><div class=\"sk-item\"><div class=\"sk-estimator sk-toggleable\"><input class=\"sk-toggleable__control sk-hidden--visually\" id=\"sk-estimator-id-2\" type=\"checkbox\" checked><label for=\"sk-estimator-id-2\" class=\"sk-toggleable__label sk-toggleable__label-arrow\">LinearRegression</label><div class=\"sk-toggleable__content\"><pre>LinearRegression()</pre></div></div></div></div></div>"
      ],
      "text/plain": [
       "LinearRegression()"
      ]
     },
     "execution_count": 89,
     "metadata": {},
     "output_type": "execute_result"
    }
   ],
   "source": [
    "model.fit(X_train,y_train)"
   ]
  },
  {
   "cell_type": "code",
   "execution_count": 90,
   "id": "1a1a1953",
   "metadata": {},
   "outputs": [],
   "source": [
    "y_pred = model.predict(X_test)"
   ]
  },
  {
   "cell_type": "code",
   "execution_count": 91,
   "id": "e952aefa",
   "metadata": {},
   "outputs": [],
   "source": [
    "r2 = r2_score(y_test,y_pred)"
   ]
  },
  {
   "cell_type": "code",
   "execution_count": 92,
   "id": "d7e08d3f",
   "metadata": {},
   "outputs": [
    {
     "data": {
      "text/plain": [
       "0.3647337304020156"
      ]
     },
     "execution_count": 92,
     "metadata": {},
     "output_type": "execute_result"
    }
   ],
   "source": [
    "r2"
   ]
  },
  {
   "cell_type": "code",
   "execution_count": 93,
   "id": "6aceb571",
   "metadata": {},
   "outputs": [
    {
     "data": {
      "text/plain": [
       "637058.4842292833"
      ]
     },
     "execution_count": 93,
     "metadata": {},
     "output_type": "execute_result"
    }
   ],
   "source": [
    "mse = mean_squared_error(y_test, y_pred)\n",
    "rmse = np.sqrt(mse)\n",
    "rmse"
   ]
  },
  {
   "cell_type": "markdown",
   "id": "134a810d",
   "metadata": {},
   "source": [
    "### One Hot Encoding"
   ]
  },
  {
   "cell_type": "code",
   "execution_count": 94,
   "id": "907d608a",
   "metadata": {},
   "outputs": [
    {
     "data": {
      "text/plain": [
       "(425, 21)"
      ]
     },
     "execution_count": 94,
     "metadata": {},
     "output_type": "execute_result"
    }
   ],
   "source": [
    "one_hot_df = pd.get_dummies(df,columns=['model','condition','source'],drop_first=True)\n",
    "one_hot_df.shape"
   ]
  },
  {
   "cell_type": "code",
   "execution_count": 95,
   "id": "06acf12c",
   "metadata": {},
   "outputs": [
    {
     "data": {
      "text/html": [
       "<div>\n",
       "<style scoped>\n",
       "    .dataframe tbody tr th:only-of-type {\n",
       "        vertical-align: middle;\n",
       "    }\n",
       "\n",
       "    .dataframe tbody tr th {\n",
       "        vertical-align: top;\n",
       "    }\n",
       "\n",
       "    .dataframe thead th {\n",
       "        text-align: right;\n",
       "    }\n",
       "</style>\n",
       "<table border=\"1\" class=\"dataframe\">\n",
       "  <thead>\n",
       "    <tr style=\"text-align: right;\">\n",
       "      <th></th>\n",
       "      <th>title</th>\n",
       "      <th>mileage</th>\n",
       "      <th>price</th>\n",
       "      <th>age_years</th>\n",
       "      <th>model_Exiga</th>\n",
       "      <th>model_Forester</th>\n",
       "      <th>model_G4</th>\n",
       "      <th>model_Impreza</th>\n",
       "      <th>model_Legacy</th>\n",
       "      <th>model_Levorg</th>\n",
       "      <th>...</th>\n",
       "      <th>model_SVX</th>\n",
       "      <th>model_Sambar</th>\n",
       "      <th>model_Trezia</th>\n",
       "      <th>model_Tribeca</th>\n",
       "      <th>model_WRX</th>\n",
       "      <th>model_XT</th>\n",
       "      <th>model_XV</th>\n",
       "      <th>condition_Foreign Used</th>\n",
       "      <th>condition_Kenyan Used</th>\n",
       "      <th>source_seller 2</th>\n",
       "    </tr>\n",
       "  </thead>\n",
       "  <tbody>\n",
       "    <tr>\n",
       "      <th>1</th>\n",
       "      <td>Subaru Forester 2014 Blue</td>\n",
       "      <td>100862.0</td>\n",
       "      <td>2400000</td>\n",
       "      <td>8</td>\n",
       "      <td>0</td>\n",
       "      <td>1</td>\n",
       "      <td>0</td>\n",
       "      <td>0</td>\n",
       "      <td>0</td>\n",
       "      <td>0</td>\n",
       "      <td>...</td>\n",
       "      <td>0</td>\n",
       "      <td>0</td>\n",
       "      <td>0</td>\n",
       "      <td>0</td>\n",
       "      <td>0</td>\n",
       "      <td>0</td>\n",
       "      <td>0</td>\n",
       "      <td>1</td>\n",
       "      <td>0</td>\n",
       "      <td>0</td>\n",
       "    </tr>\n",
       "    <tr>\n",
       "      <th>2</th>\n",
       "      <td>Subaru XV 2014 Sport Package Blue</td>\n",
       "      <td>115000.0</td>\n",
       "      <td>1850000</td>\n",
       "      <td>8</td>\n",
       "      <td>0</td>\n",
       "      <td>0</td>\n",
       "      <td>0</td>\n",
       "      <td>0</td>\n",
       "      <td>0</td>\n",
       "      <td>0</td>\n",
       "      <td>...</td>\n",
       "      <td>0</td>\n",
       "      <td>0</td>\n",
       "      <td>0</td>\n",
       "      <td>0</td>\n",
       "      <td>0</td>\n",
       "      <td>0</td>\n",
       "      <td>1</td>\n",
       "      <td>1</td>\n",
       "      <td>0</td>\n",
       "      <td>0</td>\n",
       "    </tr>\n",
       "    <tr>\n",
       "      <th>3</th>\n",
       "      <td>Subaru Forester 2014 Black</td>\n",
       "      <td>38000.0</td>\n",
       "      <td>2400000</td>\n",
       "      <td>8</td>\n",
       "      <td>0</td>\n",
       "      <td>1</td>\n",
       "      <td>0</td>\n",
       "      <td>0</td>\n",
       "      <td>0</td>\n",
       "      <td>0</td>\n",
       "      <td>...</td>\n",
       "      <td>0</td>\n",
       "      <td>0</td>\n",
       "      <td>0</td>\n",
       "      <td>0</td>\n",
       "      <td>0</td>\n",
       "      <td>0</td>\n",
       "      <td>0</td>\n",
       "      <td>1</td>\n",
       "      <td>0</td>\n",
       "      <td>0</td>\n",
       "    </tr>\n",
       "    <tr>\n",
       "      <th>4</th>\n",
       "      <td>New Subaru Impreza 2012 WRX Hatchback STI Limi...</td>\n",
       "      <td>6683.0</td>\n",
       "      <td>1950000</td>\n",
       "      <td>10</td>\n",
       "      <td>0</td>\n",
       "      <td>0</td>\n",
       "      <td>0</td>\n",
       "      <td>1</td>\n",
       "      <td>0</td>\n",
       "      <td>0</td>\n",
       "      <td>...</td>\n",
       "      <td>0</td>\n",
       "      <td>0</td>\n",
       "      <td>0</td>\n",
       "      <td>0</td>\n",
       "      <td>0</td>\n",
       "      <td>0</td>\n",
       "      <td>0</td>\n",
       "      <td>0</td>\n",
       "      <td>0</td>\n",
       "      <td>0</td>\n",
       "    </tr>\n",
       "    <tr>\n",
       "      <th>5</th>\n",
       "      <td>Subaru Forester 2014 Green</td>\n",
       "      <td>89021.0</td>\n",
       "      <td>2700000</td>\n",
       "      <td>8</td>\n",
       "      <td>0</td>\n",
       "      <td>1</td>\n",
       "      <td>0</td>\n",
       "      <td>0</td>\n",
       "      <td>0</td>\n",
       "      <td>0</td>\n",
       "      <td>...</td>\n",
       "      <td>0</td>\n",
       "      <td>0</td>\n",
       "      <td>0</td>\n",
       "      <td>0</td>\n",
       "      <td>0</td>\n",
       "      <td>0</td>\n",
       "      <td>0</td>\n",
       "      <td>1</td>\n",
       "      <td>0</td>\n",
       "      <td>0</td>\n",
       "    </tr>\n",
       "  </tbody>\n",
       "</table>\n",
       "<p>5 rows × 21 columns</p>\n",
       "</div>"
      ],
      "text/plain": [
       "                                               title   mileage    price  \\\n",
       "1                          Subaru Forester 2014 Blue  100862.0  2400000   \n",
       "2                  Subaru XV 2014 Sport Package Blue  115000.0  1850000   \n",
       "3                         Subaru Forester 2014 Black   38000.0  2400000   \n",
       "4  New Subaru Impreza 2012 WRX Hatchback STI Limi...    6683.0  1950000   \n",
       "5                         Subaru Forester 2014 Green   89021.0  2700000   \n",
       "\n",
       "   age_years  model_Exiga  model_Forester  model_G4  model_Impreza  \\\n",
       "1          8            0               1         0              0   \n",
       "2          8            0               0         0              0   \n",
       "3          8            0               1         0              0   \n",
       "4         10            0               0         0              1   \n",
       "5          8            0               1         0              0   \n",
       "\n",
       "   model_Legacy  model_Levorg  ...  model_SVX  model_Sambar  model_Trezia  \\\n",
       "1             0             0  ...          0             0             0   \n",
       "2             0             0  ...          0             0             0   \n",
       "3             0             0  ...          0             0             0   \n",
       "4             0             0  ...          0             0             0   \n",
       "5             0             0  ...          0             0             0   \n",
       "\n",
       "   model_Tribeca  model_WRX  model_XT  model_XV  condition_Foreign Used  \\\n",
       "1              0          0         0         0                       1   \n",
       "2              0          0         0         1                       1   \n",
       "3              0          0         0         0                       1   \n",
       "4              0          0         0         0                       0   \n",
       "5              0          0         0         0                       1   \n",
       "\n",
       "   condition_Kenyan Used  source_seller 2  \n",
       "1                      0                0  \n",
       "2                      0                0  \n",
       "3                      0                0  \n",
       "4                      0                0  \n",
       "5                      0                0  \n",
       "\n",
       "[5 rows x 21 columns]"
      ]
     },
     "execution_count": 95,
     "metadata": {},
     "output_type": "execute_result"
    }
   ],
   "source": [
    "one_hot_df.head()"
   ]
  },
  {
   "cell_type": "code",
   "execution_count": 205,
   "id": "fb513571",
   "metadata": {},
   "outputs": [
    {
     "data": {
      "text/html": [
       "<div>\n",
       "<style scoped>\n",
       "    .dataframe tbody tr th:only-of-type {\n",
       "        vertical-align: middle;\n",
       "    }\n",
       "\n",
       "    .dataframe tbody tr th {\n",
       "        vertical-align: top;\n",
       "    }\n",
       "\n",
       "    .dataframe thead th {\n",
       "        text-align: right;\n",
       "    }\n",
       "</style>\n",
       "<table border=\"1\" class=\"dataframe\">\n",
       "  <thead>\n",
       "    <tr style=\"text-align: right;\">\n",
       "      <th></th>\n",
       "      <th>mileage</th>\n",
       "      <th>price</th>\n",
       "      <th>age_years</th>\n",
       "      <th>model_Exiga</th>\n",
       "      <th>model_Forester</th>\n",
       "      <th>model_G4</th>\n",
       "      <th>model_Impreza</th>\n",
       "      <th>model_Legacy</th>\n",
       "      <th>model_Levorg</th>\n",
       "      <th>model_Outback</th>\n",
       "      <th>model_SVX</th>\n",
       "      <th>model_Sambar</th>\n",
       "      <th>model_Trezia</th>\n",
       "      <th>model_Tribeca</th>\n",
       "      <th>model_WRX</th>\n",
       "      <th>model_XT</th>\n",
       "      <th>model_XV</th>\n",
       "      <th>condition_Foreign Used</th>\n",
       "      <th>condition_Kenyan Used</th>\n",
       "      <th>source_seller 2</th>\n",
       "    </tr>\n",
       "  </thead>\n",
       "  <tbody>\n",
       "    <tr>\n",
       "      <th>mileage</th>\n",
       "      <td>1.000000</td>\n",
       "      <td>-0.356903</td>\n",
       "      <td>0.473906</td>\n",
       "      <td>0.033103</td>\n",
       "      <td>-0.094678</td>\n",
       "      <td>0.061283</td>\n",
       "      <td>0.025534</td>\n",
       "      <td>0.206011</td>\n",
       "      <td>0.017239</td>\n",
       "      <td>-0.081700</td>\n",
       "      <td>0.037732</td>\n",
       "      <td>-0.016675</td>\n",
       "      <td>-0.023163</td>\n",
       "      <td>0.066626</td>\n",
       "      <td>0.024481</td>\n",
       "      <td>-0.035857</td>\n",
       "      <td>-0.031482</td>\n",
       "      <td>-0.279954</td>\n",
       "      <td>0.369387</td>\n",
       "      <td>0.211662</td>\n",
       "    </tr>\n",
       "    <tr>\n",
       "      <th>price</th>\n",
       "      <td>-0.356903</td>\n",
       "      <td>1.000000</td>\n",
       "      <td>-0.595366</td>\n",
       "      <td>-0.080779</td>\n",
       "      <td>0.305961</td>\n",
       "      <td>-0.126303</td>\n",
       "      <td>-0.455570</td>\n",
       "      <td>-0.253531</td>\n",
       "      <td>-0.086584</td>\n",
       "      <td>0.426015</td>\n",
       "      <td>0.039599</td>\n",
       "      <td>-0.087395</td>\n",
       "      <td>-0.207936</td>\n",
       "      <td>-0.116300</td>\n",
       "      <td>0.020490</td>\n",
       "      <td>0.163805</td>\n",
       "      <td>-0.088968</td>\n",
       "      <td>0.383979</td>\n",
       "      <td>-0.397760</td>\n",
       "      <td>0.229520</td>\n",
       "    </tr>\n",
       "    <tr>\n",
       "      <th>age_years</th>\n",
       "      <td>0.473906</td>\n",
       "      <td>-0.595366</td>\n",
       "      <td>1.000000</td>\n",
       "      <td>-0.021663</td>\n",
       "      <td>-0.050846</td>\n",
       "      <td>0.011848</td>\n",
       "      <td>0.096875</td>\n",
       "      <td>0.194392</td>\n",
       "      <td>-0.059924</td>\n",
       "      <td>-0.085942</td>\n",
       "      <td>-0.005179</td>\n",
       "      <td>-0.005179</td>\n",
       "      <td>-0.038789</td>\n",
       "      <td>0.215252</td>\n",
       "      <td>-0.051999</td>\n",
       "      <td>-0.066801</td>\n",
       "      <td>-0.054404</td>\n",
       "      <td>-0.572164</td>\n",
       "      <td>0.597517</td>\n",
       "      <td>-0.207364</td>\n",
       "    </tr>\n",
       "    <tr>\n",
       "      <th>model_Exiga</th>\n",
       "      <td>0.033103</td>\n",
       "      <td>-0.080779</td>\n",
       "      <td>-0.021663</td>\n",
       "      <td>1.000000</td>\n",
       "      <td>-0.065784</td>\n",
       "      <td>-0.012614</td>\n",
       "      <td>-0.044022</td>\n",
       "      <td>-0.032279</td>\n",
       "      <td>-0.021086</td>\n",
       "      <td>-0.052299</td>\n",
       "      <td>-0.004734</td>\n",
       "      <td>-0.004734</td>\n",
       "      <td>-0.013501</td>\n",
       "      <td>-0.006702</td>\n",
       "      <td>-0.010635</td>\n",
       "      <td>-0.015131</td>\n",
       "      <td>-0.024369</td>\n",
       "      <td>0.046938</td>\n",
       "      <td>-0.042541</td>\n",
       "      <td>0.008055</td>\n",
       "    </tr>\n",
       "    <tr>\n",
       "      <th>model_Forester</th>\n",
       "      <td>-0.094678</td>\n",
       "      <td>0.305961</td>\n",
       "      <td>-0.050846</td>\n",
       "      <td>-0.065784</td>\n",
       "      <td>1.000000</td>\n",
       "      <td>-0.087336</td>\n",
       "      <td>-0.304799</td>\n",
       "      <td>-0.223491</td>\n",
       "      <td>-0.145998</td>\n",
       "      <td>-0.362109</td>\n",
       "      <td>-0.032776</td>\n",
       "      <td>-0.032776</td>\n",
       "      <td>-0.093478</td>\n",
       "      <td>-0.046407</td>\n",
       "      <td>-0.073637</td>\n",
       "      <td>-0.104764</td>\n",
       "      <td>-0.168723</td>\n",
       "      <td>0.039402</td>\n",
       "      <td>-0.059242</td>\n",
       "      <td>-0.051156</td>\n",
       "    </tr>\n",
       "    <tr>\n",
       "      <th>model_G4</th>\n",
       "      <td>0.061283</td>\n",
       "      <td>-0.126303</td>\n",
       "      <td>0.011848</td>\n",
       "      <td>-0.012614</td>\n",
       "      <td>-0.087336</td>\n",
       "      <td>1.000000</td>\n",
       "      <td>-0.058444</td>\n",
       "      <td>-0.042853</td>\n",
       "      <td>-0.027995</td>\n",
       "      <td>-0.069433</td>\n",
       "      <td>-0.006285</td>\n",
       "      <td>-0.006285</td>\n",
       "      <td>-0.017924</td>\n",
       "      <td>-0.008898</td>\n",
       "      <td>-0.014120</td>\n",
       "      <td>-0.020088</td>\n",
       "      <td>-0.032352</td>\n",
       "      <td>0.015022</td>\n",
       "      <td>-0.006051</td>\n",
       "      <td>0.140542</td>\n",
       "    </tr>\n",
       "    <tr>\n",
       "      <th>model_Impreza</th>\n",
       "      <td>0.025534</td>\n",
       "      <td>-0.455570</td>\n",
       "      <td>0.096875</td>\n",
       "      <td>-0.044022</td>\n",
       "      <td>-0.304799</td>\n",
       "      <td>-0.058444</td>\n",
       "      <td>1.000000</td>\n",
       "      <td>-0.149556</td>\n",
       "      <td>-0.097700</td>\n",
       "      <td>-0.242317</td>\n",
       "      <td>-0.021933</td>\n",
       "      <td>-0.021933</td>\n",
       "      <td>-0.062554</td>\n",
       "      <td>-0.031054</td>\n",
       "      <td>-0.049276</td>\n",
       "      <td>-0.070106</td>\n",
       "      <td>-0.112906</td>\n",
       "      <td>-0.071360</td>\n",
       "      <td>0.025323</td>\n",
       "      <td>-0.075972</td>\n",
       "    </tr>\n",
       "    <tr>\n",
       "      <th>model_Legacy</th>\n",
       "      <td>0.206011</td>\n",
       "      <td>-0.253531</td>\n",
       "      <td>0.194392</td>\n",
       "      <td>-0.032279</td>\n",
       "      <td>-0.223491</td>\n",
       "      <td>-0.042853</td>\n",
       "      <td>-0.149556</td>\n",
       "      <td>1.000000</td>\n",
       "      <td>-0.071637</td>\n",
       "      <td>-0.177677</td>\n",
       "      <td>-0.016082</td>\n",
       "      <td>-0.016082</td>\n",
       "      <td>-0.045867</td>\n",
       "      <td>-0.022770</td>\n",
       "      <td>-0.036131</td>\n",
       "      <td>-0.051405</td>\n",
       "      <td>-0.082788</td>\n",
       "      <td>-0.143090</td>\n",
       "      <td>0.178077</td>\n",
       "      <td>0.011541</td>\n",
       "    </tr>\n",
       "    <tr>\n",
       "      <th>model_Levorg</th>\n",
       "      <td>0.017239</td>\n",
       "      <td>-0.086584</td>\n",
       "      <td>-0.059924</td>\n",
       "      <td>-0.021086</td>\n",
       "      <td>-0.145998</td>\n",
       "      <td>-0.027995</td>\n",
       "      <td>-0.097700</td>\n",
       "      <td>-0.071637</td>\n",
       "      <td>1.000000</td>\n",
       "      <td>-0.116070</td>\n",
       "      <td>-0.010506</td>\n",
       "      <td>-0.010506</td>\n",
       "      <td>-0.029963</td>\n",
       "      <td>-0.014875</td>\n",
       "      <td>-0.023603</td>\n",
       "      <td>-0.033581</td>\n",
       "      <td>-0.054082</td>\n",
       "      <td>0.075045</td>\n",
       "      <td>-0.063356</td>\n",
       "      <td>0.006451</td>\n",
       "    </tr>\n",
       "    <tr>\n",
       "      <th>model_Outback</th>\n",
       "      <td>-0.081700</td>\n",
       "      <td>0.426015</td>\n",
       "      <td>-0.085942</td>\n",
       "      <td>-0.052299</td>\n",
       "      <td>-0.362109</td>\n",
       "      <td>-0.069433</td>\n",
       "      <td>-0.242317</td>\n",
       "      <td>-0.177677</td>\n",
       "      <td>-0.116070</td>\n",
       "      <td>1.000000</td>\n",
       "      <td>-0.026057</td>\n",
       "      <td>-0.026057</td>\n",
       "      <td>-0.074316</td>\n",
       "      <td>-0.036893</td>\n",
       "      <td>-0.058542</td>\n",
       "      <td>-0.083288</td>\n",
       "      <td>-0.134136</td>\n",
       "      <td>0.012748</td>\n",
       "      <td>-0.003081</td>\n",
       "      <td>0.004667</td>\n",
       "    </tr>\n",
       "    <tr>\n",
       "      <th>model_SVX</th>\n",
       "      <td>0.037732</td>\n",
       "      <td>0.039599</td>\n",
       "      <td>-0.005179</td>\n",
       "      <td>-0.004734</td>\n",
       "      <td>-0.032776</td>\n",
       "      <td>-0.006285</td>\n",
       "      <td>-0.021933</td>\n",
       "      <td>-0.016082</td>\n",
       "      <td>-0.010506</td>\n",
       "      <td>-0.026057</td>\n",
       "      <td>1.000000</td>\n",
       "      <td>-0.002358</td>\n",
       "      <td>-0.006727</td>\n",
       "      <td>-0.003339</td>\n",
       "      <td>-0.005299</td>\n",
       "      <td>-0.007539</td>\n",
       "      <td>-0.012141</td>\n",
       "      <td>0.023386</td>\n",
       "      <td>-0.021195</td>\n",
       "      <td>-0.044717</td>\n",
       "    </tr>\n",
       "    <tr>\n",
       "      <th>model_Sambar</th>\n",
       "      <td>-0.016675</td>\n",
       "      <td>-0.087395</td>\n",
       "      <td>-0.005179</td>\n",
       "      <td>-0.004734</td>\n",
       "      <td>-0.032776</td>\n",
       "      <td>-0.006285</td>\n",
       "      <td>-0.021933</td>\n",
       "      <td>-0.016082</td>\n",
       "      <td>-0.010506</td>\n",
       "      <td>-0.026057</td>\n",
       "      <td>-0.002358</td>\n",
       "      <td>1.000000</td>\n",
       "      <td>-0.006727</td>\n",
       "      <td>-0.003339</td>\n",
       "      <td>-0.005299</td>\n",
       "      <td>-0.007539</td>\n",
       "      <td>-0.012141</td>\n",
       "      <td>0.023386</td>\n",
       "      <td>-0.021195</td>\n",
       "      <td>0.052743</td>\n",
       "    </tr>\n",
       "    <tr>\n",
       "      <th>model_Trezia</th>\n",
       "      <td>-0.023163</td>\n",
       "      <td>-0.207936</td>\n",
       "      <td>-0.038789</td>\n",
       "      <td>-0.013501</td>\n",
       "      <td>-0.093478</td>\n",
       "      <td>-0.017924</td>\n",
       "      <td>-0.062554</td>\n",
       "      <td>-0.045867</td>\n",
       "      <td>-0.029963</td>\n",
       "      <td>-0.074316</td>\n",
       "      <td>-0.006727</td>\n",
       "      <td>-0.006727</td>\n",
       "      <td>1.000000</td>\n",
       "      <td>-0.009524</td>\n",
       "      <td>-0.015113</td>\n",
       "      <td>-0.021501</td>\n",
       "      <td>-0.034627</td>\n",
       "      <td>0.022406</td>\n",
       "      <td>-0.013223</td>\n",
       "      <td>0.046191</td>\n",
       "    </tr>\n",
       "    <tr>\n",
       "      <th>model_Tribeca</th>\n",
       "      <td>0.066626</td>\n",
       "      <td>-0.116300</td>\n",
       "      <td>0.215252</td>\n",
       "      <td>-0.006702</td>\n",
       "      <td>-0.046407</td>\n",
       "      <td>-0.008898</td>\n",
       "      <td>-0.031054</td>\n",
       "      <td>-0.022770</td>\n",
       "      <td>-0.014875</td>\n",
       "      <td>-0.036893</td>\n",
       "      <td>-0.003339</td>\n",
       "      <td>-0.003339</td>\n",
       "      <td>-0.009524</td>\n",
       "      <td>1.000000</td>\n",
       "      <td>-0.007502</td>\n",
       "      <td>-0.010674</td>\n",
       "      <td>-0.017190</td>\n",
       "      <td>-0.054841</td>\n",
       "      <td>0.063771</td>\n",
       "      <td>0.005682</td>\n",
       "    </tr>\n",
       "    <tr>\n",
       "      <th>model_WRX</th>\n",
       "      <td>0.024481</td>\n",
       "      <td>0.020490</td>\n",
       "      <td>-0.051999</td>\n",
       "      <td>-0.010635</td>\n",
       "      <td>-0.073637</td>\n",
       "      <td>-0.014120</td>\n",
       "      <td>-0.049276</td>\n",
       "      <td>-0.036131</td>\n",
       "      <td>-0.023603</td>\n",
       "      <td>-0.058542</td>\n",
       "      <td>-0.005299</td>\n",
       "      <td>-0.005299</td>\n",
       "      <td>-0.015113</td>\n",
       "      <td>-0.007502</td>\n",
       "      <td>1.000000</td>\n",
       "      <td>-0.016937</td>\n",
       "      <td>-0.027277</td>\n",
       "      <td>0.052541</td>\n",
       "      <td>-0.047619</td>\n",
       "      <td>0.118497</td>\n",
       "    </tr>\n",
       "    <tr>\n",
       "      <th>model_XT</th>\n",
       "      <td>-0.035857</td>\n",
       "      <td>0.163805</td>\n",
       "      <td>-0.066801</td>\n",
       "      <td>-0.015131</td>\n",
       "      <td>-0.104764</td>\n",
       "      <td>-0.020088</td>\n",
       "      <td>-0.070106</td>\n",
       "      <td>-0.051405</td>\n",
       "      <td>-0.033581</td>\n",
       "      <td>-0.083288</td>\n",
       "      <td>-0.007539</td>\n",
       "      <td>-0.007539</td>\n",
       "      <td>-0.021501</td>\n",
       "      <td>-0.010674</td>\n",
       "      <td>-0.016937</td>\n",
       "      <td>1.000000</td>\n",
       "      <td>-0.038808</td>\n",
       "      <td>-0.004672</td>\n",
       "      <td>0.016937</td>\n",
       "      <td>0.168586</td>\n",
       "    </tr>\n",
       "    <tr>\n",
       "      <th>model_XV</th>\n",
       "      <td>-0.031482</td>\n",
       "      <td>-0.088968</td>\n",
       "      <td>-0.054404</td>\n",
       "      <td>-0.024369</td>\n",
       "      <td>-0.168723</td>\n",
       "      <td>-0.032352</td>\n",
       "      <td>-0.112906</td>\n",
       "      <td>-0.082788</td>\n",
       "      <td>-0.054082</td>\n",
       "      <td>-0.134136</td>\n",
       "      <td>-0.012141</td>\n",
       "      <td>-0.012141</td>\n",
       "      <td>-0.034627</td>\n",
       "      <td>-0.017190</td>\n",
       "      <td>-0.027277</td>\n",
       "      <td>-0.038808</td>\n",
       "      <td>1.000000</td>\n",
       "      <td>0.069222</td>\n",
       "      <td>-0.054554</td>\n",
       "      <td>-0.089717</td>\n",
       "    </tr>\n",
       "    <tr>\n",
       "      <th>condition_Foreign Used</th>\n",
       "      <td>-0.279954</td>\n",
       "      <td>0.383979</td>\n",
       "      <td>-0.572164</td>\n",
       "      <td>0.046938</td>\n",
       "      <td>0.039402</td>\n",
       "      <td>0.015022</td>\n",
       "      <td>-0.071360</td>\n",
       "      <td>-0.143090</td>\n",
       "      <td>0.075045</td>\n",
       "      <td>0.012748</td>\n",
       "      <td>0.023386</td>\n",
       "      <td>0.023386</td>\n",
       "      <td>0.022406</td>\n",
       "      <td>-0.054841</td>\n",
       "      <td>0.052541</td>\n",
       "      <td>-0.004672</td>\n",
       "      <td>0.069222</td>\n",
       "      <td>1.000000</td>\n",
       "      <td>-0.906327</td>\n",
       "      <td>0.141403</td>\n",
       "    </tr>\n",
       "    <tr>\n",
       "      <th>condition_Kenyan Used</th>\n",
       "      <td>0.369387</td>\n",
       "      <td>-0.397760</td>\n",
       "      <td>0.597517</td>\n",
       "      <td>-0.042541</td>\n",
       "      <td>-0.059242</td>\n",
       "      <td>-0.006051</td>\n",
       "      <td>0.025323</td>\n",
       "      <td>0.178077</td>\n",
       "      <td>-0.063356</td>\n",
       "      <td>-0.003081</td>\n",
       "      <td>-0.021195</td>\n",
       "      <td>-0.021195</td>\n",
       "      <td>-0.013223</td>\n",
       "      <td>0.063771</td>\n",
       "      <td>-0.047619</td>\n",
       "      <td>0.016937</td>\n",
       "      <td>-0.054554</td>\n",
       "      <td>-0.906327</td>\n",
       "      <td>1.000000</td>\n",
       "      <td>-0.079857</td>\n",
       "    </tr>\n",
       "    <tr>\n",
       "      <th>source_seller 2</th>\n",
       "      <td>0.211662</td>\n",
       "      <td>0.229520</td>\n",
       "      <td>-0.207364</td>\n",
       "      <td>0.008055</td>\n",
       "      <td>-0.051156</td>\n",
       "      <td>0.140542</td>\n",
       "      <td>-0.075972</td>\n",
       "      <td>0.011541</td>\n",
       "      <td>0.006451</td>\n",
       "      <td>0.004667</td>\n",
       "      <td>-0.044717</td>\n",
       "      <td>0.052743</td>\n",
       "      <td>0.046191</td>\n",
       "      <td>0.005682</td>\n",
       "      <td>0.118497</td>\n",
       "      <td>0.168586</td>\n",
       "      <td>-0.089717</td>\n",
       "      <td>0.141403</td>\n",
       "      <td>-0.079857</td>\n",
       "      <td>1.000000</td>\n",
       "    </tr>\n",
       "  </tbody>\n",
       "</table>\n",
       "</div>"
      ],
      "text/plain": [
       "                         mileage     price  age_years  model_Exiga  \\\n",
       "mileage                 1.000000 -0.356903   0.473906     0.033103   \n",
       "price                  -0.356903  1.000000  -0.595366    -0.080779   \n",
       "age_years               0.473906 -0.595366   1.000000    -0.021663   \n",
       "model_Exiga             0.033103 -0.080779  -0.021663     1.000000   \n",
       "model_Forester         -0.094678  0.305961  -0.050846    -0.065784   \n",
       "model_G4                0.061283 -0.126303   0.011848    -0.012614   \n",
       "model_Impreza           0.025534 -0.455570   0.096875    -0.044022   \n",
       "model_Legacy            0.206011 -0.253531   0.194392    -0.032279   \n",
       "model_Levorg            0.017239 -0.086584  -0.059924    -0.021086   \n",
       "model_Outback          -0.081700  0.426015  -0.085942    -0.052299   \n",
       "model_SVX               0.037732  0.039599  -0.005179    -0.004734   \n",
       "model_Sambar           -0.016675 -0.087395  -0.005179    -0.004734   \n",
       "model_Trezia           -0.023163 -0.207936  -0.038789    -0.013501   \n",
       "model_Tribeca           0.066626 -0.116300   0.215252    -0.006702   \n",
       "model_WRX               0.024481  0.020490  -0.051999    -0.010635   \n",
       "model_XT               -0.035857  0.163805  -0.066801    -0.015131   \n",
       "model_XV               -0.031482 -0.088968  -0.054404    -0.024369   \n",
       "condition_Foreign Used -0.279954  0.383979  -0.572164     0.046938   \n",
       "condition_Kenyan Used   0.369387 -0.397760   0.597517    -0.042541   \n",
       "source_seller 2         0.211662  0.229520  -0.207364     0.008055   \n",
       "\n",
       "                        model_Forester  model_G4  model_Impreza  model_Legacy  \\\n",
       "mileage                      -0.094678  0.061283       0.025534      0.206011   \n",
       "price                         0.305961 -0.126303      -0.455570     -0.253531   \n",
       "age_years                    -0.050846  0.011848       0.096875      0.194392   \n",
       "model_Exiga                  -0.065784 -0.012614      -0.044022     -0.032279   \n",
       "model_Forester                1.000000 -0.087336      -0.304799     -0.223491   \n",
       "model_G4                     -0.087336  1.000000      -0.058444     -0.042853   \n",
       "model_Impreza                -0.304799 -0.058444       1.000000     -0.149556   \n",
       "model_Legacy                 -0.223491 -0.042853      -0.149556      1.000000   \n",
       "model_Levorg                 -0.145998 -0.027995      -0.097700     -0.071637   \n",
       "model_Outback                -0.362109 -0.069433      -0.242317     -0.177677   \n",
       "model_SVX                    -0.032776 -0.006285      -0.021933     -0.016082   \n",
       "model_Sambar                 -0.032776 -0.006285      -0.021933     -0.016082   \n",
       "model_Trezia                 -0.093478 -0.017924      -0.062554     -0.045867   \n",
       "model_Tribeca                -0.046407 -0.008898      -0.031054     -0.022770   \n",
       "model_WRX                    -0.073637 -0.014120      -0.049276     -0.036131   \n",
       "model_XT                     -0.104764 -0.020088      -0.070106     -0.051405   \n",
       "model_XV                     -0.168723 -0.032352      -0.112906     -0.082788   \n",
       "condition_Foreign Used        0.039402  0.015022      -0.071360     -0.143090   \n",
       "condition_Kenyan Used        -0.059242 -0.006051       0.025323      0.178077   \n",
       "source_seller 2              -0.051156  0.140542      -0.075972      0.011541   \n",
       "\n",
       "                        model_Levorg  model_Outback  model_SVX  model_Sambar  \\\n",
       "mileage                     0.017239      -0.081700   0.037732     -0.016675   \n",
       "price                      -0.086584       0.426015   0.039599     -0.087395   \n",
       "age_years                  -0.059924      -0.085942  -0.005179     -0.005179   \n",
       "model_Exiga                -0.021086      -0.052299  -0.004734     -0.004734   \n",
       "model_Forester             -0.145998      -0.362109  -0.032776     -0.032776   \n",
       "model_G4                   -0.027995      -0.069433  -0.006285     -0.006285   \n",
       "model_Impreza              -0.097700      -0.242317  -0.021933     -0.021933   \n",
       "model_Legacy               -0.071637      -0.177677  -0.016082     -0.016082   \n",
       "model_Levorg                1.000000      -0.116070  -0.010506     -0.010506   \n",
       "model_Outback              -0.116070       1.000000  -0.026057     -0.026057   \n",
       "model_SVX                  -0.010506      -0.026057   1.000000     -0.002358   \n",
       "model_Sambar               -0.010506      -0.026057  -0.002358      1.000000   \n",
       "model_Trezia               -0.029963      -0.074316  -0.006727     -0.006727   \n",
       "model_Tribeca              -0.014875      -0.036893  -0.003339     -0.003339   \n",
       "model_WRX                  -0.023603      -0.058542  -0.005299     -0.005299   \n",
       "model_XT                   -0.033581      -0.083288  -0.007539     -0.007539   \n",
       "model_XV                   -0.054082      -0.134136  -0.012141     -0.012141   \n",
       "condition_Foreign Used      0.075045       0.012748   0.023386      0.023386   \n",
       "condition_Kenyan Used      -0.063356      -0.003081  -0.021195     -0.021195   \n",
       "source_seller 2             0.006451       0.004667  -0.044717      0.052743   \n",
       "\n",
       "                        model_Trezia  model_Tribeca  model_WRX  model_XT  \\\n",
       "mileage                    -0.023163       0.066626   0.024481 -0.035857   \n",
       "price                      -0.207936      -0.116300   0.020490  0.163805   \n",
       "age_years                  -0.038789       0.215252  -0.051999 -0.066801   \n",
       "model_Exiga                -0.013501      -0.006702  -0.010635 -0.015131   \n",
       "model_Forester             -0.093478      -0.046407  -0.073637 -0.104764   \n",
       "model_G4                   -0.017924      -0.008898  -0.014120 -0.020088   \n",
       "model_Impreza              -0.062554      -0.031054  -0.049276 -0.070106   \n",
       "model_Legacy               -0.045867      -0.022770  -0.036131 -0.051405   \n",
       "model_Levorg               -0.029963      -0.014875  -0.023603 -0.033581   \n",
       "model_Outback              -0.074316      -0.036893  -0.058542 -0.083288   \n",
       "model_SVX                  -0.006727      -0.003339  -0.005299 -0.007539   \n",
       "model_Sambar               -0.006727      -0.003339  -0.005299 -0.007539   \n",
       "model_Trezia                1.000000      -0.009524  -0.015113 -0.021501   \n",
       "model_Tribeca              -0.009524       1.000000  -0.007502 -0.010674   \n",
       "model_WRX                  -0.015113      -0.007502   1.000000 -0.016937   \n",
       "model_XT                   -0.021501      -0.010674  -0.016937  1.000000   \n",
       "model_XV                   -0.034627      -0.017190  -0.027277 -0.038808   \n",
       "condition_Foreign Used      0.022406      -0.054841   0.052541 -0.004672   \n",
       "condition_Kenyan Used      -0.013223       0.063771  -0.047619  0.016937   \n",
       "source_seller 2             0.046191       0.005682   0.118497  0.168586   \n",
       "\n",
       "                        model_XV  condition_Foreign Used  \\\n",
       "mileage                -0.031482               -0.279954   \n",
       "price                  -0.088968                0.383979   \n",
       "age_years              -0.054404               -0.572164   \n",
       "model_Exiga            -0.024369                0.046938   \n",
       "model_Forester         -0.168723                0.039402   \n",
       "model_G4               -0.032352                0.015022   \n",
       "model_Impreza          -0.112906               -0.071360   \n",
       "model_Legacy           -0.082788               -0.143090   \n",
       "model_Levorg           -0.054082                0.075045   \n",
       "model_Outback          -0.134136                0.012748   \n",
       "model_SVX              -0.012141                0.023386   \n",
       "model_Sambar           -0.012141                0.023386   \n",
       "model_Trezia           -0.034627                0.022406   \n",
       "model_Tribeca          -0.017190               -0.054841   \n",
       "model_WRX              -0.027277                0.052541   \n",
       "model_XT               -0.038808               -0.004672   \n",
       "model_XV                1.000000                0.069222   \n",
       "condition_Foreign Used  0.069222                1.000000   \n",
       "condition_Kenyan Used  -0.054554               -0.906327   \n",
       "source_seller 2        -0.089717                0.141403   \n",
       "\n",
       "                        condition_Kenyan Used  source_seller 2  \n",
       "mileage                              0.369387         0.211662  \n",
       "price                               -0.397760         0.229520  \n",
       "age_years                            0.597517        -0.207364  \n",
       "model_Exiga                         -0.042541         0.008055  \n",
       "model_Forester                      -0.059242        -0.051156  \n",
       "model_G4                            -0.006051         0.140542  \n",
       "model_Impreza                        0.025323        -0.075972  \n",
       "model_Legacy                         0.178077         0.011541  \n",
       "model_Levorg                        -0.063356         0.006451  \n",
       "model_Outback                       -0.003081         0.004667  \n",
       "model_SVX                           -0.021195        -0.044717  \n",
       "model_Sambar                        -0.021195         0.052743  \n",
       "model_Trezia                        -0.013223         0.046191  \n",
       "model_Tribeca                        0.063771         0.005682  \n",
       "model_WRX                           -0.047619         0.118497  \n",
       "model_XT                             0.016937         0.168586  \n",
       "model_XV                            -0.054554        -0.089717  \n",
       "condition_Foreign Used              -0.906327         0.141403  \n",
       "condition_Kenyan Used                1.000000        -0.079857  \n",
       "source_seller 2                     -0.079857         1.000000  "
      ]
     },
     "execution_count": 205,
     "metadata": {},
     "output_type": "execute_result"
    }
   ],
   "source": [
    "one_hot_df.corr()"
   ]
  },
  {
   "cell_type": "code",
   "execution_count": 96,
   "id": "9f01c85a",
   "metadata": {},
   "outputs": [
    {
     "data": {
      "text/plain": [
       "Index(['title', 'mileage', 'price', 'age_years', 'model_Exiga',\n",
       "       'model_Forester', 'model_G4', 'model_Impreza', 'model_Legacy',\n",
       "       'model_Levorg', 'model_Outback', 'model_SVX', 'model_Sambar',\n",
       "       'model_Trezia', 'model_Tribeca', 'model_WRX', 'model_XT', 'model_XV',\n",
       "       'condition_Foreign Used', 'condition_Kenyan Used', 'source_seller 2'],\n",
       "      dtype='object')"
      ]
     },
     "execution_count": 96,
     "metadata": {},
     "output_type": "execute_result"
    }
   ],
   "source": [
    "one_hot_df.columns"
   ]
  },
  {
   "cell_type": "code",
   "execution_count": 97,
   "id": "fcf9c702",
   "metadata": {},
   "outputs": [],
   "source": [
    "y = one_hot_df['price']"
   ]
  },
  {
   "cell_type": "code",
   "execution_count": 98,
   "id": "a8ba9af2",
   "metadata": {},
   "outputs": [],
   "source": [
    "one_hot_df.drop(['title','price'],axis='columns',inplace=True)"
   ]
  },
  {
   "cell_type": "code",
   "execution_count": 99,
   "id": "55c940b6",
   "metadata": {},
   "outputs": [
    {
     "data": {
      "text/html": [
       "<div>\n",
       "<style scoped>\n",
       "    .dataframe tbody tr th:only-of-type {\n",
       "        vertical-align: middle;\n",
       "    }\n",
       "\n",
       "    .dataframe tbody tr th {\n",
       "        vertical-align: top;\n",
       "    }\n",
       "\n",
       "    .dataframe thead th {\n",
       "        text-align: right;\n",
       "    }\n",
       "</style>\n",
       "<table border=\"1\" class=\"dataframe\">\n",
       "  <thead>\n",
       "    <tr style=\"text-align: right;\">\n",
       "      <th></th>\n",
       "      <th>mileage</th>\n",
       "      <th>age_years</th>\n",
       "      <th>model_Exiga</th>\n",
       "      <th>model_Forester</th>\n",
       "      <th>model_G4</th>\n",
       "      <th>model_Impreza</th>\n",
       "      <th>model_Legacy</th>\n",
       "      <th>model_Levorg</th>\n",
       "      <th>model_Outback</th>\n",
       "      <th>model_SVX</th>\n",
       "      <th>model_Sambar</th>\n",
       "      <th>model_Trezia</th>\n",
       "      <th>model_Tribeca</th>\n",
       "      <th>model_WRX</th>\n",
       "      <th>model_XT</th>\n",
       "      <th>model_XV</th>\n",
       "      <th>condition_Foreign Used</th>\n",
       "      <th>condition_Kenyan Used</th>\n",
       "      <th>source_seller 2</th>\n",
       "    </tr>\n",
       "  </thead>\n",
       "  <tbody>\n",
       "    <tr>\n",
       "      <th>1</th>\n",
       "      <td>100862.0</td>\n",
       "      <td>8</td>\n",
       "      <td>0</td>\n",
       "      <td>1</td>\n",
       "      <td>0</td>\n",
       "      <td>0</td>\n",
       "      <td>0</td>\n",
       "      <td>0</td>\n",
       "      <td>0</td>\n",
       "      <td>0</td>\n",
       "      <td>0</td>\n",
       "      <td>0</td>\n",
       "      <td>0</td>\n",
       "      <td>0</td>\n",
       "      <td>0</td>\n",
       "      <td>0</td>\n",
       "      <td>1</td>\n",
       "      <td>0</td>\n",
       "      <td>0</td>\n",
       "    </tr>\n",
       "    <tr>\n",
       "      <th>2</th>\n",
       "      <td>115000.0</td>\n",
       "      <td>8</td>\n",
       "      <td>0</td>\n",
       "      <td>0</td>\n",
       "      <td>0</td>\n",
       "      <td>0</td>\n",
       "      <td>0</td>\n",
       "      <td>0</td>\n",
       "      <td>0</td>\n",
       "      <td>0</td>\n",
       "      <td>0</td>\n",
       "      <td>0</td>\n",
       "      <td>0</td>\n",
       "      <td>0</td>\n",
       "      <td>0</td>\n",
       "      <td>1</td>\n",
       "      <td>1</td>\n",
       "      <td>0</td>\n",
       "      <td>0</td>\n",
       "    </tr>\n",
       "    <tr>\n",
       "      <th>3</th>\n",
       "      <td>38000.0</td>\n",
       "      <td>8</td>\n",
       "      <td>0</td>\n",
       "      <td>1</td>\n",
       "      <td>0</td>\n",
       "      <td>0</td>\n",
       "      <td>0</td>\n",
       "      <td>0</td>\n",
       "      <td>0</td>\n",
       "      <td>0</td>\n",
       "      <td>0</td>\n",
       "      <td>0</td>\n",
       "      <td>0</td>\n",
       "      <td>0</td>\n",
       "      <td>0</td>\n",
       "      <td>0</td>\n",
       "      <td>1</td>\n",
       "      <td>0</td>\n",
       "      <td>0</td>\n",
       "    </tr>\n",
       "    <tr>\n",
       "      <th>4</th>\n",
       "      <td>6683.0</td>\n",
       "      <td>10</td>\n",
       "      <td>0</td>\n",
       "      <td>0</td>\n",
       "      <td>0</td>\n",
       "      <td>1</td>\n",
       "      <td>0</td>\n",
       "      <td>0</td>\n",
       "      <td>0</td>\n",
       "      <td>0</td>\n",
       "      <td>0</td>\n",
       "      <td>0</td>\n",
       "      <td>0</td>\n",
       "      <td>0</td>\n",
       "      <td>0</td>\n",
       "      <td>0</td>\n",
       "      <td>0</td>\n",
       "      <td>0</td>\n",
       "      <td>0</td>\n",
       "    </tr>\n",
       "    <tr>\n",
       "      <th>5</th>\n",
       "      <td>89021.0</td>\n",
       "      <td>8</td>\n",
       "      <td>0</td>\n",
       "      <td>1</td>\n",
       "      <td>0</td>\n",
       "      <td>0</td>\n",
       "      <td>0</td>\n",
       "      <td>0</td>\n",
       "      <td>0</td>\n",
       "      <td>0</td>\n",
       "      <td>0</td>\n",
       "      <td>0</td>\n",
       "      <td>0</td>\n",
       "      <td>0</td>\n",
       "      <td>0</td>\n",
       "      <td>0</td>\n",
       "      <td>1</td>\n",
       "      <td>0</td>\n",
       "      <td>0</td>\n",
       "    </tr>\n",
       "  </tbody>\n",
       "</table>\n",
       "</div>"
      ],
      "text/plain": [
       "    mileage  age_years  model_Exiga  model_Forester  model_G4  model_Impreza  \\\n",
       "1  100862.0          8            0               1         0              0   \n",
       "2  115000.0          8            0               0         0              0   \n",
       "3   38000.0          8            0               1         0              0   \n",
       "4    6683.0         10            0               0         0              1   \n",
       "5   89021.0          8            0               1         0              0   \n",
       "\n",
       "   model_Legacy  model_Levorg  model_Outback  model_SVX  model_Sambar  \\\n",
       "1             0             0              0          0             0   \n",
       "2             0             0              0          0             0   \n",
       "3             0             0              0          0             0   \n",
       "4             0             0              0          0             0   \n",
       "5             0             0              0          0             0   \n",
       "\n",
       "   model_Trezia  model_Tribeca  model_WRX  model_XT  model_XV  \\\n",
       "1             0              0          0         0         0   \n",
       "2             0              0          0         0         1   \n",
       "3             0              0          0         0         0   \n",
       "4             0              0          0         0         0   \n",
       "5             0              0          0         0         0   \n",
       "\n",
       "   condition_Foreign Used  condition_Kenyan Used  source_seller 2  \n",
       "1                       1                      0                0  \n",
       "2                       1                      0                0  \n",
       "3                       1                      0                0  \n",
       "4                       0                      0                0  \n",
       "5                       1                      0                0  "
      ]
     },
     "execution_count": 99,
     "metadata": {},
     "output_type": "execute_result"
    }
   ],
   "source": [
    "one_hot_df.head()"
   ]
  },
  {
   "cell_type": "code",
   "execution_count": 100,
   "id": "42a68ff3",
   "metadata": {},
   "outputs": [],
   "source": [
    "X_train, X_test, y_train, y_test = train_test_split(one_hot_df, y, test_size=0.25,shuffle=True)"
   ]
  },
  {
   "cell_type": "code",
   "execution_count": 101,
   "id": "915c606d",
   "metadata": {},
   "outputs": [
    {
     "data": {
      "text/plain": [
       "(318, 19)"
      ]
     },
     "execution_count": 101,
     "metadata": {},
     "output_type": "execute_result"
    }
   ],
   "source": [
    "X_train.shape"
   ]
  },
  {
   "cell_type": "code",
   "execution_count": 102,
   "id": "3869a943",
   "metadata": {},
   "outputs": [
    {
     "data": {
      "text/plain": [
       "(107, 19)"
      ]
     },
     "execution_count": 102,
     "metadata": {},
     "output_type": "execute_result"
    }
   ],
   "source": [
    "X_test.shape"
   ]
  },
  {
   "cell_type": "code",
   "execution_count": 103,
   "id": "cd2f4b8c",
   "metadata": {},
   "outputs": [
    {
     "data": {
      "text/plain": [
       "(318,)"
      ]
     },
     "execution_count": 103,
     "metadata": {},
     "output_type": "execute_result"
    }
   ],
   "source": [
    "y_train.shape"
   ]
  },
  {
   "cell_type": "code",
   "execution_count": 214,
   "id": "02701e90",
   "metadata": {},
   "outputs": [
    {
     "data": {
      "text/plain": [
       "(107,)"
      ]
     },
     "execution_count": 214,
     "metadata": {},
     "output_type": "execute_result"
    }
   ],
   "source": [
    "y_test.shape"
   ]
  },
  {
   "cell_type": "code",
   "execution_count": 104,
   "id": "f3ddcdfa",
   "metadata": {},
   "outputs": [
    {
     "data": {
      "text/html": [
       "<style>#sk-container-id-3 {color: black;background-color: white;}#sk-container-id-3 pre{padding: 0;}#sk-container-id-3 div.sk-toggleable {background-color: white;}#sk-container-id-3 label.sk-toggleable__label {cursor: pointer;display: block;width: 100%;margin-bottom: 0;padding: 0.3em;box-sizing: border-box;text-align: center;}#sk-container-id-3 label.sk-toggleable__label-arrow:before {content: \"▸\";float: left;margin-right: 0.25em;color: #696969;}#sk-container-id-3 label.sk-toggleable__label-arrow:hover:before {color: black;}#sk-container-id-3 div.sk-estimator:hover label.sk-toggleable__label-arrow:before {color: black;}#sk-container-id-3 div.sk-toggleable__content {max-height: 0;max-width: 0;overflow: hidden;text-align: left;background-color: #f0f8ff;}#sk-container-id-3 div.sk-toggleable__content pre {margin: 0.2em;color: black;border-radius: 0.25em;background-color: #f0f8ff;}#sk-container-id-3 input.sk-toggleable__control:checked~div.sk-toggleable__content {max-height: 200px;max-width: 100%;overflow: auto;}#sk-container-id-3 input.sk-toggleable__control:checked~label.sk-toggleable__label-arrow:before {content: \"▾\";}#sk-container-id-3 div.sk-estimator input.sk-toggleable__control:checked~label.sk-toggleable__label {background-color: #d4ebff;}#sk-container-id-3 div.sk-label input.sk-toggleable__control:checked~label.sk-toggleable__label {background-color: #d4ebff;}#sk-container-id-3 input.sk-hidden--visually {border: 0;clip: rect(1px 1px 1px 1px);clip: rect(1px, 1px, 1px, 1px);height: 1px;margin: -1px;overflow: hidden;padding: 0;position: absolute;width: 1px;}#sk-container-id-3 div.sk-estimator {font-family: monospace;background-color: #f0f8ff;border: 1px dotted black;border-radius: 0.25em;box-sizing: border-box;margin-bottom: 0.5em;}#sk-container-id-3 div.sk-estimator:hover {background-color: #d4ebff;}#sk-container-id-3 div.sk-parallel-item::after {content: \"\";width: 100%;border-bottom: 1px solid gray;flex-grow: 1;}#sk-container-id-3 div.sk-label:hover label.sk-toggleable__label {background-color: #d4ebff;}#sk-container-id-3 div.sk-serial::before {content: \"\";position: absolute;border-left: 1px solid gray;box-sizing: border-box;top: 0;bottom: 0;left: 50%;z-index: 0;}#sk-container-id-3 div.sk-serial {display: flex;flex-direction: column;align-items: center;background-color: white;padding-right: 0.2em;padding-left: 0.2em;position: relative;}#sk-container-id-3 div.sk-item {position: relative;z-index: 1;}#sk-container-id-3 div.sk-parallel {display: flex;align-items: stretch;justify-content: center;background-color: white;position: relative;}#sk-container-id-3 div.sk-item::before, #sk-container-id-3 div.sk-parallel-item::before {content: \"\";position: absolute;border-left: 1px solid gray;box-sizing: border-box;top: 0;bottom: 0;left: 50%;z-index: -1;}#sk-container-id-3 div.sk-parallel-item {display: flex;flex-direction: column;z-index: 1;position: relative;background-color: white;}#sk-container-id-3 div.sk-parallel-item:first-child::after {align-self: flex-end;width: 50%;}#sk-container-id-3 div.sk-parallel-item:last-child::after {align-self: flex-start;width: 50%;}#sk-container-id-3 div.sk-parallel-item:only-child::after {width: 0;}#sk-container-id-3 div.sk-dashed-wrapped {border: 1px dashed gray;margin: 0 0.4em 0.5em 0.4em;box-sizing: border-box;padding-bottom: 0.4em;background-color: white;}#sk-container-id-3 div.sk-label label {font-family: monospace;font-weight: bold;display: inline-block;line-height: 1.2em;}#sk-container-id-3 div.sk-label-container {text-align: center;}#sk-container-id-3 div.sk-container {/* jupyter's `normalize.less` sets `[hidden] { display: none; }` but bootstrap.min.css set `[hidden] { display: none !important; }` so we also need the `!important` here to be able to override the default hidden behavior on the sphinx rendered scikit-learn.org. See: https://github.com/scikit-learn/scikit-learn/issues/21755 */display: inline-block !important;position: relative;}#sk-container-id-3 div.sk-text-repr-fallback {display: none;}</style><div id=\"sk-container-id-3\" class=\"sk-top-container\"><div class=\"sk-text-repr-fallback\"><pre>LinearRegression()</pre><b>In a Jupyter environment, please rerun this cell to show the HTML representation or trust the notebook. <br />On GitHub, the HTML representation is unable to render, please try loading this page with nbviewer.org.</b></div><div class=\"sk-container\" hidden><div class=\"sk-item\"><div class=\"sk-estimator sk-toggleable\"><input class=\"sk-toggleable__control sk-hidden--visually\" id=\"sk-estimator-id-3\" type=\"checkbox\" checked><label for=\"sk-estimator-id-3\" class=\"sk-toggleable__label sk-toggleable__label-arrow\">LinearRegression</label><div class=\"sk-toggleable__content\"><pre>LinearRegression()</pre></div></div></div></div></div>"
      ],
      "text/plain": [
       "LinearRegression()"
      ]
     },
     "execution_count": 104,
     "metadata": {},
     "output_type": "execute_result"
    }
   ],
   "source": [
    "model.fit(X_train, y_train)"
   ]
  },
  {
   "cell_type": "code",
   "execution_count": 105,
   "id": "b54ed6a6",
   "metadata": {},
   "outputs": [],
   "source": [
    "y_preds = model.predict(X_test)"
   ]
  },
  {
   "cell_type": "code",
   "execution_count": 106,
   "id": "9a627c0f",
   "metadata": {},
   "outputs": [],
   "source": [
    "r2 = r2_score(y_test, y_preds)"
   ]
  },
  {
   "cell_type": "code",
   "execution_count": 107,
   "id": "84cc2442",
   "metadata": {},
   "outputs": [
    {
     "data": {
      "text/plain": [
       "0.8026313784020356"
      ]
     },
     "execution_count": 107,
     "metadata": {},
     "output_type": "execute_result"
    }
   ],
   "source": [
    "r2"
   ]
  },
  {
   "cell_type": "code",
   "execution_count": 108,
   "id": "270ccc0a",
   "metadata": {},
   "outputs": [
    {
     "data": {
      "text/plain": [
       "135871032033.95088"
      ]
     },
     "execution_count": 108,
     "metadata": {},
     "output_type": "execute_result"
    }
   ],
   "source": [
    "mse = mean_squared_error(y_test, y_preds)\n",
    "mse"
   ]
  },
  {
   "cell_type": "code",
   "execution_count": 104,
   "id": "e3f3bab1",
   "metadata": {},
   "outputs": [],
   "source": []
  },
  {
   "cell_type": "code",
   "execution_count": 109,
   "id": "0a9419b4",
   "metadata": {},
   "outputs": [
    {
     "data": {
      "text/plain": [
       "368606.88006865914"
      ]
     },
     "execution_count": 109,
     "metadata": {},
     "output_type": "execute_result"
    }
   ],
   "source": [
    "rmse = np.sqrt(mse)\n",
    "rmse"
   ]
  },
  {
   "cell_type": "code",
   "execution_count": 110,
   "id": "0831af3c",
   "metadata": {},
   "outputs": [
    {
     "data": {
      "text/plain": [
       "373    1465000\n",
       "429    3315000\n",
       "355    1765000\n",
       "188    3300000\n",
       "54      800000\n",
       "        ...   \n",
       "346    1180000\n",
       "256    1400000\n",
       "302    2445000\n",
       "337    1765000\n",
       "442    1830000\n",
       "Name: price, Length: 107, dtype: int64"
      ]
     },
     "execution_count": 110,
     "metadata": {},
     "output_type": "execute_result"
    }
   ],
   "source": [
    "y_test"
   ]
  },
  {
   "cell_type": "code",
   "execution_count": 111,
   "id": "ebdae58d",
   "metadata": {},
   "outputs": [
    {
     "data": {
      "text/plain": [
       "373    1.787503e+06\n",
       "429    3.070854e+06\n",
       "355    1.908360e+06\n",
       "188    3.038229e+06\n",
       "54     9.343831e+05\n",
       "           ...     \n",
       "346    1.499867e+06\n",
       "256    1.513339e+06\n",
       "302    2.485295e+06\n",
       "337    2.020753e+06\n",
       "442    2.161632e+06\n",
       "Name: predicted, Length: 107, dtype: float64"
      ]
     },
     "execution_count": 111,
     "metadata": {},
     "output_type": "execute_result"
    }
   ],
   "source": [
    "y_test_pd = pd.Series(y_preds,index=y_test.index,name=\"predicted\")\n",
    "y_test_pd"
   ]
  },
  {
   "cell_type": "code",
   "execution_count": 234,
   "id": "651360b0",
   "metadata": {},
   "outputs": [
    {
     "data": {
      "text/plain": [
       "97     2.625186e+06\n",
       "130    3.359430e+06\n",
       "145    2.188749e+06\n",
       "129    1.863910e+06\n",
       "41     1.628588e+06\n",
       "           ...     \n",
       "132    1.650085e+06\n",
       "36     1.354687e+06\n",
       "42     1.847498e+06\n",
       "28     2.621018e+06\n",
       "11     1.074321e+06\n",
       "Name: predicted, Length: 107, dtype: float64"
      ]
     },
     "execution_count": 234,
     "metadata": {},
     "output_type": "execute_result"
    }
   ],
   "source": [
    "y_test_pd"
   ]
  },
  {
   "cell_type": "code",
   "execution_count": 235,
   "id": "49d94bfb",
   "metadata": {},
   "outputs": [
    {
     "data": {
      "text/plain": [
       "97     2900000\n",
       "130    2965000\n",
       "145    2515000\n",
       "129    1465000\n",
       "41     1530000\n",
       "        ...   \n",
       "132    1200000\n",
       "36     1365000\n",
       "42     1815000\n",
       "28     2880000\n",
       "11     1070000\n",
       "Name: price, Length: 107, dtype: int64"
      ]
     },
     "execution_count": 235,
     "metadata": {},
     "output_type": "execute_result"
    }
   ],
   "source": [
    "y_test"
   ]
  },
  {
   "cell_type": "code",
   "execution_count": 112,
   "id": "528f0ac1",
   "metadata": {},
   "outputs": [
    {
     "data": {
      "text/html": [
       "<div>\n",
       "<style scoped>\n",
       "    .dataframe tbody tr th:only-of-type {\n",
       "        vertical-align: middle;\n",
       "    }\n",
       "\n",
       "    .dataframe tbody tr th {\n",
       "        vertical-align: top;\n",
       "    }\n",
       "\n",
       "    .dataframe thead th {\n",
       "        text-align: right;\n",
       "    }\n",
       "</style>\n",
       "<table border=\"1\" class=\"dataframe\">\n",
       "  <thead>\n",
       "    <tr style=\"text-align: right;\">\n",
       "      <th></th>\n",
       "      <th>price</th>\n",
       "      <th>predicted</th>\n",
       "      <th>diff</th>\n",
       "    </tr>\n",
       "  </thead>\n",
       "  <tbody>\n",
       "    <tr>\n",
       "      <th>373</th>\n",
       "      <td>1465000</td>\n",
       "      <td>1.787503e+06</td>\n",
       "      <td>-322503.107658</td>\n",
       "    </tr>\n",
       "    <tr>\n",
       "      <th>429</th>\n",
       "      <td>3315000</td>\n",
       "      <td>3.070854e+06</td>\n",
       "      <td>244145.858429</td>\n",
       "    </tr>\n",
       "    <tr>\n",
       "      <th>355</th>\n",
       "      <td>1765000</td>\n",
       "      <td>1.908360e+06</td>\n",
       "      <td>-143359.592482</td>\n",
       "    </tr>\n",
       "    <tr>\n",
       "      <th>188</th>\n",
       "      <td>3300000</td>\n",
       "      <td>3.038229e+06</td>\n",
       "      <td>261770.973685</td>\n",
       "    </tr>\n",
       "    <tr>\n",
       "      <th>54</th>\n",
       "      <td>800000</td>\n",
       "      <td>9.343831e+05</td>\n",
       "      <td>-134383.054590</td>\n",
       "    </tr>\n",
       "    <tr>\n",
       "      <th>...</th>\n",
       "      <td>...</td>\n",
       "      <td>...</td>\n",
       "      <td>...</td>\n",
       "    </tr>\n",
       "    <tr>\n",
       "      <th>346</th>\n",
       "      <td>1180000</td>\n",
       "      <td>1.499867e+06</td>\n",
       "      <td>-319866.709815</td>\n",
       "    </tr>\n",
       "    <tr>\n",
       "      <th>256</th>\n",
       "      <td>1400000</td>\n",
       "      <td>1.513339e+06</td>\n",
       "      <td>-113339.402140</td>\n",
       "    </tr>\n",
       "    <tr>\n",
       "      <th>302</th>\n",
       "      <td>2445000</td>\n",
       "      <td>2.485295e+06</td>\n",
       "      <td>-40295.389942</td>\n",
       "    </tr>\n",
       "    <tr>\n",
       "      <th>337</th>\n",
       "      <td>1765000</td>\n",
       "      <td>2.020753e+06</td>\n",
       "      <td>-255753.318240</td>\n",
       "    </tr>\n",
       "    <tr>\n",
       "      <th>442</th>\n",
       "      <td>1830000</td>\n",
       "      <td>2.161632e+06</td>\n",
       "      <td>-331632.141788</td>\n",
       "    </tr>\n",
       "  </tbody>\n",
       "</table>\n",
       "<p>107 rows × 3 columns</p>\n",
       "</div>"
      ],
      "text/plain": [
       "       price     predicted           diff\n",
       "373  1465000  1.787503e+06 -322503.107658\n",
       "429  3315000  3.070854e+06  244145.858429\n",
       "355  1765000  1.908360e+06 -143359.592482\n",
       "188  3300000  3.038229e+06  261770.973685\n",
       "54    800000  9.343831e+05 -134383.054590\n",
       "..       ...           ...            ...\n",
       "346  1180000  1.499867e+06 -319866.709815\n",
       "256  1400000  1.513339e+06 -113339.402140\n",
       "302  2445000  2.485295e+06  -40295.389942\n",
       "337  1765000  2.020753e+06 -255753.318240\n",
       "442  1830000  2.161632e+06 -331632.141788\n",
       "\n",
       "[107 rows x 3 columns]"
      ]
     },
     "execution_count": 112,
     "metadata": {},
     "output_type": "execute_result"
    }
   ],
   "source": [
    "res_df = pd.concat([y_test,y_test_pd],axis=1)\n",
    "res_df['diff'] = res_df['price'] - res_df['predicted']\n",
    "res_df"
   ]
  },
  {
   "cell_type": "code",
   "execution_count": null,
   "id": "430c96bf",
   "metadata": {},
   "outputs": [],
   "source": []
  }
 ],
 "metadata": {
  "kernelspec": {
   "display_name": "Python 3 (ipykernel)",
   "language": "python",
   "name": "python3"
  },
  "language_info": {
   "codemirror_mode": {
    "name": "ipython",
    "version": 3
   },
   "file_extension": ".py",
   "mimetype": "text/x-python",
   "name": "python",
   "nbconvert_exporter": "python",
   "pygments_lexer": "ipython3",
   "version": "3.10.5"
  }
 },
 "nbformat": 4,
 "nbformat_minor": 5
}
